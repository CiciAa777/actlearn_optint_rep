{
 "cells": [
  {
   "cell_type": "markdown",
   "metadata": {},
   "source": [
    "This notebook can be used to process data for the optint task.\n",
    "\n",
    "It can also be used to replicate **Fig. S9**."
   ]
  },
  {
   "cell_type": "code",
   "execution_count": 1,
   "metadata": {},
   "outputs": [],
   "source": [
    "import numpy as np\n",
    "import pandas as pd\n",
    "import pickle\n",
    "import scipy.sparse\n",
    "from tqdm import tqdm"
   ]
  },
  {
   "cell_type": "markdown",
   "metadata": {},
   "source": [
    "### saving samples of each perturbation into a .pkl file"
   ]
  },
  {
   "cell_type": "code",
   "execution_count": null,
   "metadata": {},
   "outputs": [],
   "source": [
    "ctrl_cells = pd.read_csv(\"../data/controlscreen_observational_samples_reduced.csv\")\n",
    "genes = ctrl_cells['GENE'].to_numpy()\n",
    "\n",
    "with open(\"../../data/pertub_dict.pkl\", 'rb') as f:\n",
    "\tpertub_dict = pickle.load(f)\n",
    "\n",
    "ctrl_cells.to_numpy()[:, 1:].astype(float)\n",
    "\n",
    "np.save(\"../../data/samples+/ctrl.npy\", ctrl_cells.to_numpy()[:,1:].astype(float))\n",
    "\n",
    "all_ptb_cells = []\n",
    "all_genes = []\n",
    "header = []\n",
    "\n",
    "count = 0\n",
    "with open(\"../data/RNA_expression.csv\") as csv_file:\n",
    "\tfor row in csv_file:\n",
    "\t\tif count == 0:\n",
    "\t\t\theader = row.split(',')[1:]\n",
    "\t\t\tcount += 1\n",
    "\t\telse:\n",
    "\t\t\trow = row.split(',')\n",
    "\t\t\tall_genes.append(row[0])\n",
    "\t\t\tall_ptb_cells.append(scipy.sparse.csr_matrix(np.array(row[1:], dtype=float)))\n",
    " \n",
    "all_ptb_cells = scipy.sparse.vstack(all_ptb_cells)\n",
    "\n",
    "ptb_cells_id = np.concatenate([pertub_dict['Control'][a] if a != '' else [] for a in pertub_dict['Control'].keys()])\n",
    "ptb_cells_idx = [header.index(i) for i in ptb_cells_id]\n",
    "genes_idx = [all_genes.index(i) for i in genes]\n",
    "\n",
    "all_ptb_cells_reduced = all_ptb_cells.T[:, genes_idx]\n",
    "\n",
    "selected_ptbs = []\n",
    "selected_samples = {}\n",
    "for a in pertub_dict['Control'].keys():\n",
    "\tif all(i in genes for i in a.split('_')):\n",
    "\t\tselected_ptbs.append(a)\n",
    "\tif any(i in genes for i in a.split('_')):\n",
    "\t\tkey = '_'.join([i for i in a.split('_') if i in genes])\n",
    "\t\tif key in selected_samples.keys():\n",
    "\t\t\tselected_samples[key].append(a)\n",
    "\t\telse:\n",
    "\t\t\tselected_samples[key] = [a]\n",
    "\n",
    "for a in tqdm(selected_ptbs):\n",
    "\tptb_cells_idx = []\n",
    "\tfor b in selected_samples[a]:\n",
    "\t\tptb_cells_idx += [header.index(i) for i in pertub_dict['Control'][b]]\n",
    "\tsubset = all_ptb_cells_reduced[ptb_cells_idx, :].toarray()\n",
    "\tnp.save(f\"../../data/samples+/ptb_{a}.npy\", subset)\n",
    "\n",
    "with open(\"../../data/ptb_list.pkl\", 'wb') as file:\n",
    "\tpickle.dump(selected_ptbs, file)\n"
   ]
  },
  {
   "cell_type": "markdown",
   "metadata": {},
   "source": [
    "### merging samples from considered perturbations"
   ]
  },
  {
   "cell_type": "code",
   "execution_count": 2,
   "metadata": {},
   "outputs": [],
   "source": [
    "with open(\"../../data/gene_dict.pkl\", 'rb') as f:\n",
    "\tgene_dict = pickle.load(f)"
   ]
  },
  {
   "cell_type": "code",
   "execution_count": 4,
   "metadata": {},
   "outputs": [],
   "source": [
    "data = {}"
   ]
  },
  {
   "cell_type": "code",
   "execution_count": 5,
   "metadata": {},
   "outputs": [],
   "source": [
    "import glob\n",
    "\n",
    "for file in glob.glob(\"../../data/samples+/*npy\"):\n",
    "\tf = file.split(\"/\")[-1].split(\".\")[0]\n",
    "\twith open(file, 'rb') as file:\n",
    "\t\tdata[f] = np.load(file)"
   ]
  },
  {
   "cell_type": "code",
   "execution_count": 48,
   "metadata": {},
   "outputs": [],
   "source": [
    "mean = np.average(data['ctrl'], axis=1)\n",
    "\n",
    "data_new = {}\n",
    "for k in data.keys():\n",
    "\tif k == 'ctrl':\n",
    "\t\tdata_new[k] = (np.zeros(36), data[k].shape[1], np.mean(data[k], axis=1), data[k])\n",
    "\telse:\n",
    "\t\tnew_k = np.zeros(36)\n",
    "\t\tfor g in k.split(\"_\")[1:]:\n",
    "\t\t\tnew_k[gene_dict[g]] = - mean[gene_dict[g]]\n",
    "\t\tdata_new[k] = (new_k, data[k].shape[0], np.mean(data[k].T, axis=1), data[k].T)\n",
    "\n",
    "with open(\"../../data/data+.pkl\", 'wb') as file:\n",
    "\tpickle.dump(data_new, file)"
   ]
  },
  {
   "cell_type": "markdown",
   "metadata": {},
   "source": [
    "### sample size of each perturbation"
   ]
  },
  {
   "cell_type": "code",
   "execution_count": 11,
   "metadata": {},
   "outputs": [],
   "source": [
    "ptb_cells_nums = [len(pertub_dict['Control'][a]) for a in selected_ptbs]"
   ]
  },
  {
   "cell_type": "code",
   "execution_count": 12,
   "metadata": {},
   "outputs": [],
   "source": [
    "sorted_selected_ptbs = sorted(selected_ptbs, key=lambda x: x.split('_').__len__())\n",
    "sorted_ptb_cells_nums = []\n",
    "for a in sorted_selected_ptbs:\n",
    "\tsorted_ptb_cells_nums.append(np.sum([len(pertub_dict['Control'][b]) for b in selected_samples[a]]))"
   ]
  },
  {
   "cell_type": "code",
   "execution_count": 14,
   "metadata": {},
   "outputs": [],
   "source": [
    "int_cell_nums = {}\n",
    "\n",
    "for ptb, cnum in zip(sorted_selected_ptbs, sorted_ptb_cells_nums):\n",
    "\tl = len(ptb.split('_'))\n",
    "\ttry:\n",
    "\t\tint_cell_nums[l].append(cnum)\n",
    "\texcept:\n",
    "\t\tint_cell_nums[l] = [cnum]\n",
    "\n",
    "sorted_cell_num = []\n",
    "for l in sorted(int_cell_nums.keys()):\n",
    "\tsorted_cell_num += list(sorted(int_cell_nums[l], reverse=True))\n"
   ]
  },
  {
   "cell_type": "code",
   "execution_count": 32,
   "metadata": {},
   "outputs": [
    {
     "data": {
      "image/png": "[encoded data removed]",
      "text/plain": [
       "<Figure size 864x288 with 1 Axes>"
      ]
     },
     "metadata": {
      "needs_background": "light"
     },
     "output_type": "display_data"
    }
   ],
   "source": [
    "fig, ax = plt.subplots(1,1,figsize=(12,4))\n",
    "plt.rcParams.update({'font.size': 12})\n",
    "plt.yscale('log')\n",
    "plt.bar(np.arange(len(sorted_cell_num))+1, sorted_cell_num, color=['lightcoral']*len(int_cell_nums[1])+['cornflowerblue']*(len(sorted_cell_num)-len(int_cell_nums[1])), width=0.75, alpha=1)\n",
    "\n",
    "tick = [1]\n",
    "tick_label = ['']\n",
    "for l in sorted(int_cell_nums.keys()):\n",
    "\ttick.append(tick[-1]+len(int_cell_nums[l]))\n",
    "\ttick_label.append('')\n",
    "plt.xticks(tick, rotation=90, labels=tick_label);\n",
    "plt.xlim(-1, 255)\n",
    "ax.spines.right.set_visible(False)\n",
    "ax.spines.top.set_visible(False)\n",
    "plt.ylabel('Number of cells')\n",
    "plt.xlabel('Interventions')\n",
    "plt.tight_layout()\n",
    "# plt.savefig('../../figures/bar_samples.pdf')"
   ]
  },
  {
   "cell_type": "code",
   "execution_count": 78,
   "metadata": {},
   "outputs": [],
   "source": [
    "cell_nums = {}\n",
    "\n",
    "for ptb, cnum in zip(sorted_selected_ptbs, sorted_ptb_cells_nums):\n",
    "\tl = len(ptb.split('_'))\n",
    "\ttry:\n",
    "\t\tcell_nums[l] += cnum\n",
    "\texcept:\n",
    "\t\tcell_nums[l] = cnum\n"
   ]
  },
  {
   "cell_type": "code",
   "execution_count": 91,
   "metadata": {},
   "outputs": [
    {
     "data": {
      "image/png": "[encoded data removed]",
      "text/plain": [
       "<Figure size 280.8x280.8 with 1 Axes>"
      ]
     },
     "metadata": {
      "needs_background": "light"
     },
     "output_type": "display_data"
    }
   ],
   "source": [
    "fig, ax = plt.subplots(1,1,figsize=(3.9,3.9))\n",
    "plt.rcParams.update({'font.size': 12})\n",
    "plt.yscale('log')\n",
    "plt.bar(int_cell_nums.keys(), [np.average(l) for l in int_cell_nums.values()], yerr=[np.std(l) for l in int_cell_nums.values()], capsize=10, color=['lightcoral']+['cornflowerblue']*3, alpha=0.8)\n",
    "plt.xticks([1,2,3,4])\n",
    "ax.spines.right.set_visible(False)\n",
    "ax.spines.top.set_visible(False)\n",
    "plt.xlabel('Number of interventional targets')\n",
    "plt.ylabel('Average number of cells')\n",
    "plt.tight_layout()\n",
    "plt.savefig('../../figures/bar_avgsample.pdf')"
   ]
  }
 ],
 "metadata": {
  "interpreter": {
   "hash": "fea9ec7d42d9b88cd9ceda2baf5f74c4d5ce56fea11761fbf0103333ba0f7749"
  },
  "kernelspec": {
   "display_name": "Python 3.9.7 ('ptbctseq')",
   "language": "python",
   "name": "python3"
  },
  "language_info": {
   "codemirror_mode": {
    "name": "ipython",
    "version": 3
   },
   "file_extension": ".py",
   "mimetype": "text/x-python",
   "name": "python",
   "nbconvert_exporter": "python",
   "pygments_lexer": "ipython3",
   "version": "3.9.10"
  },
  "orig_nbformat": 4
 },
 "nbformat": 4,
 "nbformat_minor": 2
}
