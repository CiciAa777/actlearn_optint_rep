{
 "cells": [
  {
   "cell_type": "code",
   "execution_count": 1,
   "metadata": {},
   "outputs": [],
   "source": [
    "import numpy as np\n",
    "import pandas as pd\n",
    "import pickle\n",
    "import scipy.sparse"
   ]
  },
  {
   "cell_type": "markdown",
   "metadata": {},
   "source": [
    "## merging little files"
   ]
  },
  {
   "cell_type": "code",
   "execution_count": 2,
   "metadata": {},
   "outputs": [],
   "source": [
    "with open(\"../../data/gene_dict.pkl\", 'rb') as f:\n",
    "\tgene_dict = pickle.load(f)"
   ]
  },
  {
   "cell_type": "code",
   "execution_count": 3,
   "metadata": {},
   "outputs": [
    {
     "data": {
      "text/plain": [
       "{'B2M': 0,\n",
       " 'CCR10': 1,\n",
       " 'CD58': 2,\n",
       " 'CD59': 3,\n",
       " 'CDH19': 4,\n",
       " 'CDK4': 5,\n",
       " 'CDK6': 6,\n",
       " 'CTSA': 7,\n",
       " 'CTSB': 8,\n",
       " 'CTSD': 9,\n",
       " 'CXCR4': 10,\n",
       " 'DNMT1': 11,\n",
       " 'EIF3K': 12,\n",
       " 'FOS': 13,\n",
       " 'HLA-A': 14,\n",
       " 'HLA-B': 15,\n",
       " 'HLA-C': 16,\n",
       " 'HLA-E': 17,\n",
       " 'IFNGR1': 18,\n",
       " 'IFNGR2': 19,\n",
       " 'IRF3': 20,\n",
       " 'LAMP2': 21,\n",
       " 'MYC': 22,\n",
       " 'NGFR': 23,\n",
       " 'NPC1': 24,\n",
       " 'NPC2': 25,\n",
       " 'RB1': 26,\n",
       " 'SAT1': 27,\n",
       " 'SEC11C': 28,\n",
       " 'SERPINE2': 29,\n",
       " 'SMAD4': 30,\n",
       " 'SOX4': 31,\n",
       " 'SP100': 32,\n",
       " 'STAT1': 33,\n",
       " 'STAT3': 34,\n",
       " 'TGFB1': 35}"
      ]
     },
     "execution_count": 3,
     "metadata": {},
     "output_type": "execute_result"
    }
   ],
   "source": [
    "gene_dict"
   ]
  },
  {
   "cell_type": "code",
   "execution_count": 4,
   "metadata": {},
   "outputs": [],
   "source": [
    "data = {}"
   ]
  },
  {
   "cell_type": "code",
   "execution_count": 5,
   "metadata": {},
   "outputs": [],
   "source": [
    "import glob\n",
    "\n",
    "for file in glob.glob(\"../../data/samples+/*npy\"):\n",
    "\tf = file.split(\"/\")[-1].split(\".\")[0]\n",
    "\twith open(file, 'rb') as file:\n",
    "\t\tdata[f] = np.load(file)"
   ]
  },
  {
   "cell_type": "code",
   "execution_count": 6,
   "metadata": {},
   "outputs": [],
   "source": [
    "mean = np.average(data['ctrl'], axis=1)"
   ]
  },
  {
   "cell_type": "code",
   "execution_count": 48,
   "metadata": {},
   "outputs": [],
   "source": [
    "data_new = {}\n",
    "for k in data.keys():\n",
    "\tif k == 'ctrl':\n",
    "\t\tdata_new[k] = (np.zeros(36), data[k].shape[1], np.mean(data[k], axis=1), data[k])\n",
    "\telse:\n",
    "\t\tnew_k = np.zeros(36)\n",
    "\t\tfor g in k.split(\"_\")[1:]:\n",
    "\t\t\tnew_k[gene_dict[g]] = - mean[gene_dict[g]]\n",
    "\t\tdata_new[k] = (new_k, data[k].shape[0], np.mean(data[k].T, axis=1), data[k].T)"
   ]
  },
  {
   "cell_type": "code",
   "execution_count": 49,
   "metadata": {},
   "outputs": [],
   "source": [
    "with open(\"../../data/data+.pkl\", 'wb') as file:\n",
    "\tpickle.dump(data_new, file)"
   ]
  },
  {
   "cell_type": "markdown",
   "metadata": {},
   "source": [
    "## saving little files"
   ]
  },
  {
   "cell_type": "code",
   "execution_count": 9,
   "metadata": {},
   "outputs": [],
   "source": [
    "ctrl_cells = pd.read_csv(\"../data/controlscreen_observational_samples_reduced.csv\")\n",
    "genes = ctrl_cells['GENE'].to_numpy()\n",
    "\n",
    "with open(\"../save/pertub_dict.pkl\", 'rb') as f:\n",
    "\tpertub_dict = pickle.load(f)"
   ]
  },
  {
   "cell_type": "code",
   "execution_count": 7,
   "metadata": {},
   "outputs": [
    {
     "data": {
      "text/plain": [
       "array([[7.5192347, 6.6042027, 7.292672 , ..., 6.9177303, 7.1495404,\n",
       "        6.5190306],\n",
       "       [0.       , 0.       , 0.       , ..., 0.       , 0.       ,\n",
       "        0.       ],\n",
       "       [0.       , 0.       , 3.78852  , ..., 0.       , 0.       ,\n",
       "        4.7346196],\n",
       "       ...,\n",
       "       [0.       , 4.819194 , 0.       , ..., 0.       , 0.       ,\n",
       "        5.0201025],\n",
       "       [0.       , 4.819194 , 0.       , ..., 4.0440497, 4.219136 ,\n",
       "        3.6534262],\n",
       "       [5.272544 , 4.819194 , 5.1576967, ..., 4.0440497, 0.       ,\n",
       "        4.3335376]])"
      ]
     },
     "execution_count": 7,
     "metadata": {},
     "output_type": "execute_result"
    }
   ],
   "source": [
    "ctrl_cells.to_numpy()[:, 1:].astype(float)"
   ]
  },
  {
   "cell_type": "code",
   "execution_count": 7,
   "metadata": {},
   "outputs": [],
   "source": [
    "np.save(\"../../data/samples+/ctrl.npy\", ctrl_cells.to_numpy()[:,1:].astype(float))"
   ]
  },
  {
   "cell_type": "code",
   "execution_count": 8,
   "metadata": {},
   "outputs": [],
   "source": [
    "# ptb_cells_id = np.concatenate([pertub_dict['Control'][a] if a != '' else [] for a in pertub_dict['Control'].keys()])\n",
    "# ptb_cells_full = pd.read_csv(\"../data/RNA_expression.csv\", header=0, index_col=0, sep=',',\n",
    "# \t\t\tusecols=np.concatenate([['GENE'], ptb_cells_id]))\n",
    "# ptb_cells = ptb_cells_full.loc[genes, :]\n",
    "# ptb_cells.to_csv(\"../data/controlscreen_interventional_samples_reduced.csv\")"
   ]
  },
  {
   "cell_type": "code",
   "execution_count": 8,
   "metadata": {},
   "outputs": [],
   "source": [
    "all_ptb_cells = []\n",
    "all_genes = []\n",
    "header = []\n",
    "\n",
    "count = 0\n",
    "with open(\"../data/RNA_expression.csv\") as csv_file:\n",
    "\tfor row in csv_file:\n",
    "\t\tif count == 0:\n",
    "\t\t\theader = row.split(',')[1:]\n",
    "\t\t\tcount += 1\n",
    "\t\telse:\n",
    "\t\t\trow = row.split(',')\n",
    "\t\t\tall_genes.append(row[0])\n",
    "\t\t\tall_ptb_cells.append(scipy.sparse.csr_matrix(np.array(row[1:], dtype=float)))\n",
    " \n",
    "all_ptb_cells = scipy.sparse.vstack(all_ptb_cells)"
   ]
  },
  {
   "cell_type": "code",
   "execution_count": 10,
   "metadata": {},
   "outputs": [
    {
     "data": {
      "text/plain": [
       "<218331x23712 sparse matrix of type '<class 'numpy.float64'>'\n",
       "\twith 740736244 stored elements in Compressed Sparse Column format>"
      ]
     },
     "execution_count": 10,
     "metadata": {},
     "output_type": "execute_result"
    }
   ],
   "source": [
    "all_ptb_cells.T"
   ]
  },
  {
   "cell_type": "code",
   "execution_count": 11,
   "metadata": {},
   "outputs": [],
   "source": [
    "ptb_cells_id = np.concatenate([pertub_dict['Control'][a] if a != '' else [] for a in pertub_dict['Control'].keys()])\n",
    "ptb_cells_idx = [header.index(i) for i in ptb_cells_id]\n",
    "genes_idx = [all_genes.index(i) for i in genes]"
   ]
  },
  {
   "cell_type": "code",
   "execution_count": 16,
   "metadata": {},
   "outputs": [],
   "source": [
    "all_ptb_cells_reduced = all_ptb_cells.T[:, genes_idx]"
   ]
  },
  {
   "cell_type": "code",
   "execution_count": 10,
   "metadata": {},
   "outputs": [],
   "source": [
    "selected_ptbs = []\n",
    "selected_samples = {}\n",
    "for a in pertub_dict['Control'].keys():\n",
    "\tif all(i in genes for i in a.split('_')):\n",
    "\t\tselected_ptbs.append(a)\n",
    "\tif any(i in genes for i in a.split('_')):\n",
    "\t\tkey = '_'.join([i for i in a.split('_') if i in genes])\n",
    "\t\tif key in selected_samples.keys():\n",
    "\t\t\tselected_samples[key].append(a)\n",
    "\t\telse:\n",
    "\t\t\tselected_samples[key] = [a]"
   ]
  },
  {
   "cell_type": "code",
   "execution_count": 9,
   "metadata": {},
   "outputs": [],
   "source": [
    "from tqdm import tqdm"
   ]
  },
  {
   "cell_type": "code",
   "execution_count": 10,
   "metadata": {},
   "outputs": [
    {
     "ename": "NameError",
     "evalue": "name 'all_ptb_cells_reduced' is not defined",
     "output_type": "error",
     "traceback": [
      "\u001b[0;31m---------------------------------------------------------------------------\u001b[0m",
      "\u001b[0;31mNameError\u001b[0m                                 Traceback (most recent call last)",
      "\u001b[1;32m/home/vzhang/bayesian_mean_matching/perturb-CITE-seq/preprocess/code/process_data.ipynb Cell 21\u001b[0m in \u001b[0;36m<cell line: 1>\u001b[0;34m()\u001b[0m\n\u001b[0;32m----> <a href='vscode-notebook-cell://ssh-remote%2Buhlergroup2.mit.edu/home/vzhang/bayesian_mean_matching/perturb-CITE-seq/preprocess/code/process_data.ipynb#ch0000020vscode-remote?line=0'>1</a>\u001b[0m all_ptb_cells_reduced\u001b[39m.\u001b[39mshape\n",
      "\u001b[0;31mNameError\u001b[0m: name 'all_ptb_cells_reduced' is not defined"
     ]
    }
   ],
   "source": [
    "all_ptb_cells_reduced.shape"
   ]
  },
  {
   "cell_type": "code",
   "execution_count": 23,
   "metadata": {},
   "outputs": [
    {
     "name": "stderr",
     "output_type": "stream",
     "text": [
      "100%|██████████| 253/253 [00:06<00:00, 39.19it/s]\n"
     ]
    }
   ],
   "source": [
    "for a in tqdm(selected_ptbs):\n",
    "\tptb_cells_idx = []\n",
    "\tfor b in selected_samples[a]:\n",
    "\t\tptb_cells_idx += [header.index(i) for i in pertub_dict['Control'][b]]\n",
    "\tsubset = all_ptb_cells_reduced[ptb_cells_idx, :].toarray()\n",
    "\tnp.save(f\"../../data/samples+/ptb_{a}.npy\", subset)\n"
   ]
  },
  {
   "cell_type": "code",
   "execution_count": 112,
   "metadata": {},
   "outputs": [],
   "source": [
    "with open(\"../data/ptb_list.pkl\", 'wb') as file:\n",
    "\tpickle.dump(selected_ptbs, file)"
   ]
  },
  {
   "cell_type": "markdown",
   "metadata": {},
   "source": [
    "## sample size"
   ]
  },
  {
   "cell_type": "code",
   "execution_count": 11,
   "metadata": {},
   "outputs": [],
   "source": [
    "ptb_cells_nums = [len(pertub_dict['Control'][a]) for a in selected_ptbs]"
   ]
  },
  {
   "cell_type": "code",
   "execution_count": 12,
   "metadata": {},
   "outputs": [],
   "source": [
    "sorted_selected_ptbs = sorted(selected_ptbs, key=lambda x: x.split('_').__len__())"
   ]
  },
  {
   "cell_type": "code",
   "execution_count": 13,
   "metadata": {},
   "outputs": [
    {
     "name": "stderr",
     "output_type": "stream",
     "text": [
      "/tmp/ipykernel_26448/1821789502.py:10: MatplotlibDeprecationWarning: Support for passing numbers through unit converters is deprecated since 3.5 and support will be removed two minor releases later; use Axis.convert_units instead.\n",
      "  plt.xticks([]);\n"
     ]
    },
    {
     "data": {
      "image/png": "[encoded data removed]",
      "text/plain": [
       "<Figure size 1440x216 with 1 Axes>"
      ]
     },
     "metadata": {
      "needs_background": "light"
     },
     "output_type": "display_data"
    }
   ],
   "source": [
    "import matplotlib.pyplot as plt\n",
    "\n",
    "plt.figure(figsize=(20,3))\n",
    "plt.yscale('log')\n",
    "sorted_ptb_cells_nums = []\n",
    "for a in sorted_selected_ptbs:\n",
    "\tsorted_ptb_cells_nums.append(np.sum([len(pertub_dict['Control'][b]) for b in selected_samples[a]]))\n",
    "\t\n",
    "plt.bar(sorted_selected_ptbs,  sorted_ptb_cells_nums, color='cornflowerblue', width=.5);\n",
    "plt.xticks([]);"
   ]
  },
  {
   "cell_type": "code",
   "execution_count": 14,
   "metadata": {},
   "outputs": [],
   "source": [
    "int_cell_nums = {}\n",
    "\n",
    "for ptb, cnum in zip(sorted_selected_ptbs, sorted_ptb_cells_nums):\n",
    "\tl = len(ptb.split('_'))\n",
    "\ttry:\n",
    "\t\tint_cell_nums[l].append(cnum)\n",
    "\texcept:\n",
    "\t\tint_cell_nums[l] = [cnum]\n",
    "\n",
    "sorted_cell_num = []\n",
    "for l in sorted(int_cell_nums.keys()):\n",
    "\tsorted_cell_num += list(sorted(int_cell_nums[l], reverse=True))\n"
   ]
  },
  {
   "cell_type": "code",
   "execution_count": 32,
   "metadata": {},
   "outputs": [
    {
     "data": {
      "image/png": "[encoded data removed]",
      "text/plain": [
       "<Figure size 864x288 with 1 Axes>"
      ]
     },
     "metadata": {
      "needs_background": "light"
     },
     "output_type": "display_data"
    }
   ],
   "source": [
    "fig, ax = plt.subplots(1,1,figsize=(12,4))\n",
    "plt.rcParams.update({'font.size': 12})\n",
    "plt.yscale('log')\n",
    "plt.bar(np.arange(len(sorted_cell_num))+1, sorted_cell_num, color=['lightcoral']*len(int_cell_nums[1])+['cornflowerblue']*(len(sorted_cell_num)-len(int_cell_nums[1])), width=0.75, alpha=1)\n",
    "\n",
    "tick = [1]\n",
    "tick_label = ['']\n",
    "for l in sorted(int_cell_nums.keys()):\n",
    "\ttick.append(tick[-1]+len(int_cell_nums[l]))\n",
    "\ttick_label.append('')\n",
    "plt.xticks(tick, rotation=90, labels=tick_label);\n",
    "plt.xlim(-1, 255)\n",
    "ax.spines.right.set_visible(False)\n",
    "ax.spines.top.set_visible(False)\n",
    "plt.ylabel('Number of cells')\n",
    "plt.xlabel('Interventions')\n",
    "plt.tight_layout()\n",
    "plt.savefig('../../figures/bar_samples.pdf')"
   ]
  },
  {
   "cell_type": "code",
   "execution_count": 78,
   "metadata": {},
   "outputs": [],
   "source": [
    "cell_nums = {}\n",
    "\n",
    "for ptb, cnum in zip(sorted_selected_ptbs, sorted_ptb_cells_nums):\n",
    "\tl = len(ptb.split('_'))\n",
    "\ttry:\n",
    "\t\tcell_nums[l] += cnum\n",
    "\texcept:\n",
    "\t\tcell_nums[l] = cnum\n"
   ]
  },
  {
   "cell_type": "code",
   "execution_count": 92,
   "metadata": {},
   "outputs": [
    {
     "data": {
      "image/png": "[encoded data removed]",
      "text/plain": [
       "<Figure size 280.8x280.8 with 1 Axes>"
      ]
     },
     "metadata": {
      "needs_background": "light"
     },
     "output_type": "display_data"
    }
   ],
   "source": [
    "fig, ax = plt.subplots(1,1,figsize=(3.9,3.9))\n",
    "plt.rcParams.update({'font.size': 12})\n",
    "plt.yscale('log')\n",
    "plt.bar(cell_nums.keys(), cell_nums.values(), color=['lightcoral']+['cornflowerblue']*3, alpha=0.8)\n",
    "plt.xticks([1,2,3,4])\n",
    "ax.spines.right.set_visible(False)\n",
    "ax.spines.top.set_visible(False)\n",
    "plt.xlabel('Number of interventional targets')\n",
    "plt.ylabel('Total number of cells')\n",
    "plt.tight_layout()\n",
    "plt.savefig('../../figures/bar_totalsample.pdf')"
   ]
  },
  {
   "cell_type": "code",
   "execution_count": 91,
   "metadata": {},
   "outputs": [
    {
     "data": {
      "image/png": "[encoded data removed]",
      "text/plain": [
       "<Figure size 280.8x280.8 with 1 Axes>"
      ]
     },
     "metadata": {
      "needs_background": "light"
     },
     "output_type": "display_data"
    }
   ],
   "source": [
    "fig, ax = plt.subplots(1,1,figsize=(3.9,3.9))\n",
    "plt.rcParams.update({'font.size': 12})\n",
    "plt.yscale('log')\n",
    "plt.bar(int_cell_nums.keys(), [np.average(l) for l in int_cell_nums.values()], yerr=[np.std(l) for l in int_cell_nums.values()], capsize=10, color=['lightcoral']+['cornflowerblue']*3, alpha=0.8)\n",
    "plt.xticks([1,2,3,4])\n",
    "ax.spines.right.set_visible(False)\n",
    "ax.spines.top.set_visible(False)\n",
    "plt.xlabel('Number of interventional targets')\n",
    "plt.ylabel('Average number of cells')\n",
    "plt.tight_layout()\n",
    "plt.savefig('../../figures/bar_avgsample.pdf')"
   ]
  },
  {
   "cell_type": "code",
   "execution_count": 96,
   "metadata": {},
   "outputs": [
    {
     "data": {
      "image/png": "[encoded data removed]",
      "text/plain": [
       "<Figure size 864x288 with 1 Axes>"
      ]
     },
     "metadata": {
      "needs_background": "light"
     },
     "output_type": "display_data"
    }
   ],
   "source": [
    "fig, ax = plt.subplots(1,1,figsize=(12,4))\n",
    "plt.rcParams.update({'font.size': 12})\n",
    "plt.bar(sorted_selected_ptbs[0:36],  sorted_ptb_cells_nums[0:36]);\n",
    "ax.spines.right.set_visible(False)\n",
    "ax.spines.top.set_visible(False)\n",
    "plt.xticks(rotation=60);\n"
   ]
  },
  {
   "cell_type": "code",
   "execution_count": 97,
   "metadata": {},
   "outputs": [
    {
     "name": "stdout",
     "output_type": "stream",
     "text": [
      "B2M 375\n",
      "CCR10 287\n",
      "CD58 320\n",
      "CD59 366\n",
      "CDH19 369\n",
      "CDK4 289\n",
      "CDK6 150\n",
      "CTSA 351\n",
      "CTSB 346\n",
      "CTSD 421\n",
      "CXCR4 276\n",
      "DNMT1 113\n",
      "EIF3K 262\n",
      "FOS 275\n",
      "HLA-A 378\n",
      "HLA-B 202\n",
      "HLA-C 227\n",
      "HLA-E 300\n",
      "IFNGR1 318\n",
      "IFNGR2 343\n",
      "IRF3 320\n",
      "LAMP2 342\n",
      "MYC 79\n",
      "NGFR 275\n",
      "NPC1 349\n",
      "NPC2 309\n",
      "RB1 361\n",
      "SAT1 319\n",
      "SEC11C 337\n",
      "SERPINE2 303\n",
      "SMAD4 328\n",
      "SOX4 343\n",
      "SP100 298\n",
      "STAT1 306\n",
      "STAT3 273\n",
      "TGFB1 405\n"
     ]
    }
   ],
   "source": [
    "for ptb, num in zip(sorted_selected_ptbs[0:36], sorted_ptb_cells_nums[0:36]):\n",
    "\tprint(ptb, num)"
   ]
  },
  {
   "cell_type": "code",
   "execution_count": 15,
   "metadata": {},
   "outputs": [],
   "source": [
    "# import matplotlib.pyplot as plt\n",
    "\n",
    "# sorted_ptb_cells_nums = [len(pertub_dict['Control'][a]) for a in sorted_selected_ptbs]\n",
    "# plt.bar(sorted_selected_ptbs,  sorted_ptb_cells_nums);"
   ]
  },
  {
   "cell_type": "code",
   "execution_count": 16,
   "metadata": {},
   "outputs": [],
   "source": [
    "for i in np.where(np.array(sorted_ptb_cells_nums) >= 10)[0]:\n",
    "\tk = sorted_selected_ptbs[i]\n",
    "\tif '_' in k:\n",
    "\t\tprint(k)"
   ]
  },
  {
   "cell_type": "code",
   "execution_count": null,
   "metadata": {},
   "outputs": [],
   "source": []
  },
  {
   "cell_type": "code",
   "execution_count": null,
   "metadata": {},
   "outputs": [],
   "source": [
    "# scipy.sparse.save_npz(\"../data/controlscreen_interventional_samples.npz\", all_ptb_cells)"
   ]
  }
 ],
 "metadata": {
  "interpreter": {
   "hash": "fea9ec7d42d9b88cd9ceda2baf5f74c4d5ce56fea11761fbf0103333ba0f7749"
  },
  "kernelspec": {
   "display_name": "Python 3.9.7 ('ptbctseq')",
   "language": "python",
   "name": "python3"
  },
  "language_info": {
   "codemirror_mode": {
    "name": "ipython",
    "version": 3
   },
   "file_extension": ".py",
   "mimetype": "text/x-python",
   "name": "python",
   "nbconvert_exporter": "python",
   "pygments_lexer": "ipython3",
   "version": "3.9.10"
  },
  "orig_nbformat": 4
 },
 "nbformat": 4,
 "nbformat_minor": 2
}
