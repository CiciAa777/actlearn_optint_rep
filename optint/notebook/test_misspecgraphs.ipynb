{
 "cells": [
  {
   "cell_type": "markdown",
   "metadata": {},
   "source": [
    "The following code studies the output-weighted measure and can be used to replicate **Supplementary Fig. 10**.\n",
    "\n",
    "Currently showing for \"Excessive edge\" setting. To consider \"Missing edge\" and \"Reversed edge\", change Mis_func accordingly."
   ]
  },
  {
   "cell_type": "code",
   "execution_count": 1,
   "metadata": {},
   "outputs": [],
   "source": [
    "from argparse import Namespace\n",
    "import numpy as np\n",
    "import matplotlib.pyplot as plt\n",
    "from copy import deepcopy\n",
    "\n",
    "from optint.data import synthetic_instance, gen_dag\n",
    "from optint.run import run\n",
    "from optint.visualize import *\n",
    "\n",
    "import warnings\n",
    "warnings.filterwarnings('ignore')"
   ]
  },
  {
   "cell_type": "markdown",
   "metadata": {},
   "source": [
    "### Generate synthetic instances"
   ]
  },
  {
   "cell_type": "code",
   "execution_count": 2,
   "metadata": {},
   "outputs": [],
   "source": [
    "seed = 1234\n",
    "np.random.seed(seed)\n",
    "\n",
    "# generate problem instantiation\n",
    "nnodes = 5\n",
    "sigma_square = np.ones(nnodes)\n",
    "DAG_type = 'random'\n",
    "\n",
    "num_instances = 10\n",
    "a_size = 3\n",
    "\n",
    "problems = []\n",
    "graph = gen_dag(nnodes=nnodes, DAG_type=DAG_type)\n",
    "for _ in range(num_instances):\n",
    "\tproblem = synthetic_instance(\n",
    "\t\tnnodes=nnodes, \n",
    "\t\tDAG_type=DAG_type,\n",
    "\t\tstd=True,\n",
    "\t\tsigma_square=sigma_square, \n",
    "\t\ta_size=a_size,\n",
    "\t\ta_target_nodes=[i+nnodes//2 for i in range(a_size)], \n",
    "\t\tprefix_DAG=graph\n",
    "\t\t)\n",
    "\tproblems.append(problem)"
   ]
  },
  {
   "cell_type": "code",
   "execution_count": 3,
   "metadata": {
    "scrolled": true
   },
   "outputs": [
    {
     "name": "stdout",
     "output_type": "stream",
     "text": [
      "there are no undirected edges\n",
      "plotting...\n"
     ]
    },
    {
     "data": {
      "image/png": "[encoded data removed]",
      "text/plain": [
       "<Figure size 288x288 with 1 Axes>"
      ]
     },
     "metadata": {},
     "output_type": "display_data"
    }
   ],
   "source": [
    "draw(\n",
    "\tproblem.DAG, \n",
    "\tcolored_set = set(i for i in range(problem.nnodes) if problem.a_target[i]!=0), \n",
    "\taffected_set=set().union(*[problem.DAG.descendants_of(i) for i in range(problem.nnodes) if problem.a_target[i]!=0]),\n",
    "\t)"
   ]
  },
  {
   "cell_type": "markdown",
   "metadata": {},
   "source": [
    "### Mis-specification"
   ]
  },
  {
   "cell_type": "code",
   "execution_count": 4,
   "metadata": {},
   "outputs": [],
   "source": [
    "def remove_edge(dag):   \n",
    "    \n",
    "    if dag.arcs:\n",
    "        arc = list(dag.arcs)[np.random.choice(len(dag.arcs))]\n",
    "        dag.remove_arc(*arc)\n",
    "            \n",
    "    return\n",
    "\n",
    "\n",
    "def add_edge(dag):\n",
    "\n",
    "    if len(dag.arcs) < dag.nnodes * (dag.nnodes-1) /2:\n",
    "        for i in np.random.permutation(len(dag.nodes)):\n",
    "            node = list(dag.nodes)[i]\n",
    "            non_ancestor = dag.nodes - dag.ancestors_of(node)-{node} - dag.children_of(node)\n",
    "\n",
    "            if non_ancestor:\n",
    "                point_node = list(non_ancestor)[np.random.choice(len(non_ancestor))]\n",
    "                dag.add_arc(node,point_node)\n",
    "                break\n",
    "                 \n",
    "    return\n",
    "\n",
    "def reverse_edge(dag, reversed_list):\n",
    "    \n",
    "    for i in np.random.permutation(len(dag.arcs)):\n",
    "        j, k = list(dag.arcs)[i]\n",
    "        if dag.children_of(j).intersection(dag.ancestors_of(k)):\n",
    "            continue\n",
    "        if (k,j) in reversed_list:\n",
    "            continue\n",
    "        dag.remove_arc(j, k)\n",
    "        dag.add_arc(k, j)\n",
    "        reversed_list.append((j,k))\n",
    "        break\n",
    "    \n",
    "    return\n",
    "\n",
    "def Remove_edge(Dag, num_edge=1):\n",
    "    dag = deepcopy(Dag)\n",
    "    for _ in range(num_edge):\n",
    "        remove_edge(dag)\n",
    "    return dag\n",
    "\n",
    "def Add_edge(Dag, num_edge=1):\n",
    "    dag = deepcopy(Dag)\n",
    "    for _ in range(num_edge):\n",
    "        add_edge(dag)\n",
    "    return dag\n",
    "\n",
    "def Reverse_edge(Dag, num_edge=1):\n",
    "    dag = deepcopy(Dag)\n",
    "    reversed_list = []\n",
    "    for _ in range(num_edge):\n",
    "        reverse_edge(dag, reversed_list)\n",
    "    return dag"
   ]
  },
  {
   "cell_type": "markdown",
   "metadata": {},
   "source": [
    "### Run 5 methods"
   ]
  },
  {
   "cell_type": "code",
   "execution_count": 5,
   "metadata": {},
   "outputs": [],
   "source": [
    "# options for testing\n",
    "opts = Namespace(n=1, T=10, W=0, R=10, time=False)"
   ]
  },
  {
   "cell_type": "code",
   "execution_count": 6,
   "metadata": {},
   "outputs": [],
   "source": [
    "# misspecified setting\n",
    "num_edge_max = 3\n",
    "Mis_func = Add_edge"
   ]
  },
  {
   "cell_type": "code",
   "execution_count": 7,
   "metadata": {},
   "outputs": [
    {
     "name": "stderr",
     "output_type": "stream",
     "text": [
      "100%|███████████████████████████████████████████████████████████████| 10/10 [00:00<00:00, 270.23it/s]\n",
      "100%|████████████████████████████████████████████████████████████████| 10/10 [00:00<00:00, 11.14it/s]\n",
      "100%|████████████████████████████████████████████████████████████████| 10/10 [00:01<00:00,  6.17it/s]\n",
      "100%|████████████████████████████████████████████████████████████████| 10/10 [00:01<00:00,  8.22it/s]\n",
      "100%|████████████████████████████████████████████████████████████████| 10/10 [00:01<00:00,  8.34it/s]\n",
      "100%|████████████████████████████████████████████████████████████████| 10/10 [00:01<00:00,  8.60it/s]\n"
     ]
    },
    {
     "name": "stdout",
     "output_type": "stream",
     "text": [
      "Graph 1\n"
     ]
    },
    {
     "name": "stderr",
     "output_type": "stream",
     "text": [
      "100%|███████████████████████████████████████████████████████████████| 10/10 [00:00<00:00, 251.44it/s]\n",
      "100%|████████████████████████████████████████████████████████████████| 10/10 [00:00<00:00, 12.89it/s]\n",
      "100%|████████████████████████████████████████████████████████████████| 10/10 [00:01<00:00,  6.96it/s]\n",
      "100%|████████████████████████████████████████████████████████████████| 10/10 [00:01<00:00,  7.64it/s]\n",
      "100%|████████████████████████████████████████████████████████████████| 10/10 [00:01<00:00,  8.61it/s]\n",
      "100%|████████████████████████████████████████████████████████████████| 10/10 [00:01<00:00,  8.55it/s]\n"
     ]
    },
    {
     "name": "stdout",
     "output_type": "stream",
     "text": [
      "Graph 2\n"
     ]
    },
    {
     "name": "stderr",
     "output_type": "stream",
     "text": [
      "100%|███████████████████████████████████████████████████████████████| 10/10 [00:00<00:00, 251.71it/s]\n",
      "100%|████████████████████████████████████████████████████████████████| 10/10 [00:00<00:00, 13.84it/s]\n",
      "100%|████████████████████████████████████████████████████████████████| 10/10 [00:01<00:00,  5.78it/s]\n",
      "100%|████████████████████████████████████████████████████████████████| 10/10 [00:01<00:00,  7.95it/s]\n",
      "100%|████████████████████████████████████████████████████████████████| 10/10 [00:01<00:00,  8.39it/s]\n",
      "100%|████████████████████████████████████████████████████████████████| 10/10 [00:01<00:00,  9.24it/s]\n"
     ]
    },
    {
     "name": "stdout",
     "output_type": "stream",
     "text": [
      "Graph 3\n"
     ]
    },
    {
     "name": "stderr",
     "output_type": "stream",
     "text": [
      "100%|███████████████████████████████████████████████████████████████| 10/10 [00:00<00:00, 263.65it/s]\n",
      "100%|████████████████████████████████████████████████████████████████| 10/10 [00:00<00:00, 13.53it/s]\n",
      "100%|████████████████████████████████████████████████████████████████| 10/10 [00:01<00:00,  7.28it/s]\n",
      "100%|████████████████████████████████████████████████████████████████| 10/10 [00:01<00:00,  7.91it/s]\n",
      "100%|████████████████████████████████████████████████████████████████| 10/10 [00:01<00:00,  8.85it/s]\n",
      "100%|████████████████████████████████████████████████████████████████| 10/10 [00:01<00:00,  9.08it/s]\n"
     ]
    },
    {
     "name": "stdout",
     "output_type": "stream",
     "text": [
      "Graph 4\n"
     ]
    },
    {
     "name": "stderr",
     "output_type": "stream",
     "text": [
      "100%|███████████████████████████████████████████████████████████████| 10/10 [00:00<00:00, 264.05it/s]\n",
      "100%|████████████████████████████████████████████████████████████████| 10/10 [00:00<00:00, 12.13it/s]\n",
      "100%|████████████████████████████████████████████████████████████████| 10/10 [00:01<00:00,  6.34it/s]\n",
      "100%|████████████████████████████████████████████████████████████████| 10/10 [00:01<00:00,  7.80it/s]\n",
      "100%|████████████████████████████████████████████████████████████████| 10/10 [00:01<00:00,  9.00it/s]\n",
      "100%|████████████████████████████████████████████████████████████████| 10/10 [00:01<00:00,  8.90it/s]\n"
     ]
    },
    {
     "name": "stdout",
     "output_type": "stream",
     "text": [
      "Graph 5\n"
     ]
    },
    {
     "name": "stderr",
     "output_type": "stream",
     "text": [
      "100%|███████████████████████████████████████████████████████████████| 10/10 [00:00<00:00, 257.43it/s]\n",
      "100%|████████████████████████████████████████████████████████████████| 10/10 [00:00<00:00, 12.90it/s]\n",
      "100%|████████████████████████████████████████████████████████████████| 10/10 [00:01<00:00,  6.11it/s]\n",
      "100%|████████████████████████████████████████████████████████████████| 10/10 [00:01<00:00,  8.57it/s]\n",
      "100%|████████████████████████████████████████████████████████████████| 10/10 [00:01<00:00,  8.90it/s]\n",
      "100%|████████████████████████████████████████████████████████████████| 10/10 [00:01<00:00,  9.06it/s]\n"
     ]
    },
    {
     "name": "stdout",
     "output_type": "stream",
     "text": [
      "Graph 6\n"
     ]
    },
    {
     "name": "stderr",
     "output_type": "stream",
     "text": [
      "100%|███████████████████████████████████████████████████████████████| 10/10 [00:00<00:00, 250.09it/s]\n",
      "100%|████████████████████████████████████████████████████████████████| 10/10 [00:00<00:00, 12.19it/s]\n",
      "100%|████████████████████████████████████████████████████████████████| 10/10 [00:01<00:00,  7.77it/s]\n",
      "100%|████████████████████████████████████████████████████████████████| 10/10 [00:01<00:00,  7.86it/s]\n",
      "100%|████████████████████████████████████████████████████████████████| 10/10 [00:01<00:00,  8.50it/s]\n",
      "100%|████████████████████████████████████████████████████████████████| 10/10 [00:01<00:00,  9.06it/s]\n"
     ]
    },
    {
     "name": "stdout",
     "output_type": "stream",
     "text": [
      "Graph 7\n"
     ]
    },
    {
     "name": "stderr",
     "output_type": "stream",
     "text": [
      "100%|███████████████████████████████████████████████████████████████| 10/10 [00:00<00:00, 278.45it/s]\n",
      "100%|████████████████████████████████████████████████████████████████| 10/10 [00:00<00:00, 14.07it/s]\n",
      "100%|████████████████████████████████████████████████████████████████| 10/10 [00:01<00:00,  6.15it/s]\n",
      "100%|████████████████████████████████████████████████████████████████| 10/10 [00:01<00:00,  8.50it/s]\n",
      "100%|████████████████████████████████████████████████████████████████| 10/10 [00:01<00:00,  8.88it/s]\n",
      "100%|████████████████████████████████████████████████████████████████| 10/10 [00:01<00:00,  8.91it/s]\n"
     ]
    },
    {
     "name": "stdout",
     "output_type": "stream",
     "text": [
      "Graph 8\n"
     ]
    },
    {
     "name": "stderr",
     "output_type": "stream",
     "text": [
      "100%|███████████████████████████████████████████████████████████████| 10/10 [00:00<00:00, 260.86it/s]\n",
      "100%|████████████████████████████████████████████████████████████████| 10/10 [00:00<00:00, 11.96it/s]\n",
      "100%|████████████████████████████████████████████████████████████████| 10/10 [00:01<00:00,  6.18it/s]\n",
      "100%|████████████████████████████████████████████████████████████████| 10/10 [00:01<00:00,  8.03it/s]\n",
      "100%|████████████████████████████████████████████████████████████████| 10/10 [00:01<00:00,  8.16it/s]\n",
      "100%|████████████████████████████████████████████████████████████████| 10/10 [00:01<00:00,  9.05it/s]\n"
     ]
    },
    {
     "name": "stdout",
     "output_type": "stream",
     "text": [
      "Graph 9\n"
     ]
    },
    {
     "name": "stderr",
     "output_type": "stream",
     "text": [
      "100%|███████████████████████████████████████████████████████████████| 10/10 [00:00<00:00, 254.76it/s]\n",
      "100%|████████████████████████████████████████████████████████████████| 10/10 [00:00<00:00, 14.29it/s]\n",
      "100%|████████████████████████████████████████████████████████████████| 10/10 [00:01<00:00,  5.74it/s]\n",
      "100%|████████████████████████████████████████████████████████████████| 10/10 [00:01<00:00,  8.24it/s]\n",
      "100%|████████████████████████████████████████████████████████████████| 10/10 [00:01<00:00,  8.98it/s]\n",
      "100%|████████████████████████████████████████████████████████████████| 10/10 [00:01<00:00,  8.74it/s]\n"
     ]
    },
    {
     "name": "stdout",
     "output_type": "stream",
     "text": [
      "Graph 10\n"
     ]
    },
    {
     "name": "stderr",
     "output_type": "stream",
     "text": [
      "100%|███████████████████████████████████████████████████████████████| 10/10 [00:00<00:00, 257.49it/s]\n",
      "100%|████████████████████████████████████████████████████████████████| 10/10 [00:00<00:00, 10.55it/s]\n",
      "100%|████████████████████████████████████████████████████████████████| 10/10 [00:01<00:00,  8.51it/s]\n",
      "100%|████████████████████████████████████████████████████████████████| 10/10 [00:01<00:00,  8.72it/s]\n",
      "100%|████████████████████████████████████████████████████████████████| 10/10 [00:01<00:00,  8.72it/s]\n",
      "100%|████████████████████████████████████████████████████████████████| 10/10 [00:01<00:00,  8.96it/s]\n"
     ]
    },
    {
     "name": "stdout",
     "output_type": "stream",
     "text": [
      "Graph 1\n"
     ]
    },
    {
     "name": "stderr",
     "output_type": "stream",
     "text": [
      "100%|███████████████████████████████████████████████████████████████| 10/10 [00:00<00:00, 279.13it/s]\n",
      "100%|████████████████████████████████████████████████████████████████| 10/10 [00:00<00:00, 11.78it/s]\n",
      "100%|████████████████████████████████████████████████████████████████| 10/10 [00:02<00:00,  4.63it/s]\n",
      "100%|████████████████████████████████████████████████████████████████| 10/10 [00:01<00:00,  6.56it/s]\n",
      "100%|████████████████████████████████████████████████████████████████| 10/10 [00:01<00:00,  8.67it/s]\n",
      "100%|████████████████████████████████████████████████████████████████| 10/10 [00:01<00:00,  8.74it/s]\n"
     ]
    },
    {
     "name": "stdout",
     "output_type": "stream",
     "text": [
      "Graph 2\n"
     ]
    },
    {
     "name": "stderr",
     "output_type": "stream",
     "text": [
      "100%|███████████████████████████████████████████████████████████████| 10/10 [00:00<00:00, 237.97it/s]\n",
      "100%|████████████████████████████████████████████████████████████████| 10/10 [00:00<00:00, 12.18it/s]\n",
      "100%|████████████████████████████████████████████████████████████████| 10/10 [00:01<00:00,  7.74it/s]\n",
      "100%|████████████████████████████████████████████████████████████████| 10/10 [00:01<00:00,  8.01it/s]\n",
      "100%|████████████████████████████████████████████████████████████████| 10/10 [00:01<00:00,  9.32it/s]\n",
      "100%|████████████████████████████████████████████████████████████████| 10/10 [00:01<00:00,  8.51it/s]\n"
     ]
    },
    {
     "name": "stdout",
     "output_type": "stream",
     "text": [
      "Graph 3\n"
     ]
    },
    {
     "name": "stderr",
     "output_type": "stream",
     "text": [
      "100%|███████████████████████████████████████████████████████████████| 10/10 [00:00<00:00, 249.29it/s]\n",
      "100%|████████████████████████████████████████████████████████████████| 10/10 [00:00<00:00, 10.33it/s]\n",
      "100%|████████████████████████████████████████████████████████████████| 10/10 [00:01<00:00,  7.36it/s]\n",
      "100%|████████████████████████████████████████████████████████████████| 10/10 [00:01<00:00,  7.69it/s]\n",
      "100%|████████████████████████████████████████████████████████████████| 10/10 [00:01<00:00,  8.39it/s]\n",
      "100%|████████████████████████████████████████████████████████████████| 10/10 [00:01<00:00,  8.26it/s]\n"
     ]
    },
    {
     "name": "stdout",
     "output_type": "stream",
     "text": [
      "Graph 4\n"
     ]
    },
    {
     "name": "stderr",
     "output_type": "stream",
     "text": [
      "100%|███████████████████████████████████████████████████████████████| 10/10 [00:00<00:00, 228.57it/s]\n",
      "100%|████████████████████████████████████████████████████████████████| 10/10 [00:00<00:00, 15.15it/s]\n",
      "100%|████████████████████████████████████████████████████████████████| 10/10 [00:01<00:00,  5.65it/s]\n",
      "100%|████████████████████████████████████████████████████████████████| 10/10 [00:01<00:00,  7.87it/s]\n",
      "100%|████████████████████████████████████████████████████████████████| 10/10 [00:01<00:00,  8.16it/s]\n",
      "100%|████████████████████████████████████████████████████████████████| 10/10 [00:01<00:00,  8.45it/s]\n"
     ]
    },
    {
     "name": "stdout",
     "output_type": "stream",
     "text": [
      "Graph 5\n"
     ]
    },
    {
     "name": "stderr",
     "output_type": "stream",
     "text": [
      "100%|███████████████████████████████████████████████████████████████| 10/10 [00:00<00:00, 246.87it/s]\n",
      "100%|████████████████████████████████████████████████████████████████| 10/10 [00:00<00:00, 11.39it/s]\n",
      "100%|████████████████████████████████████████████████████████████████| 10/10 [00:01<00:00,  8.09it/s]\n",
      "100%|████████████████████████████████████████████████████████████████| 10/10 [00:01<00:00,  7.87it/s]\n",
      "100%|████████████████████████████████████████████████████████████████| 10/10 [00:01<00:00,  9.28it/s]\n",
      "100%|████████████████████████████████████████████████████████████████| 10/10 [00:01<00:00,  9.28it/s]\n"
     ]
    },
    {
     "name": "stdout",
     "output_type": "stream",
     "text": [
      "Graph 6\n"
     ]
    },
    {
     "name": "stderr",
     "output_type": "stream",
     "text": [
      "100%|███████████████████████████████████████████████████████████████| 10/10 [00:00<00:00, 253.79it/s]\n",
      "100%|████████████████████████████████████████████████████████████████| 10/10 [00:00<00:00, 13.95it/s]\n",
      " 60%|███████████████████████████████████████                          | 6/10 [00:01<00:00,  4.47it/s]"
     ]
    },
    {
     "name": "stdout",
     "output_type": "stream",
     "text": [
      "Optimization fails...\n",
      "Iteration limit reached\n",
      "1st initialization (last round) failed...\n"
     ]
    },
    {
     "name": "stderr",
     "output_type": "stream",
     "text": [
      "100%|████████████████████████████████████████████████████████████████| 10/10 [00:01<00:00,  5.19it/s]\n",
      "100%|████████████████████████████████████████████████████████████████| 10/10 [00:01<00:00,  6.55it/s]\n",
      "100%|████████████████████████████████████████████████████████████████| 10/10 [00:01<00:00,  9.45it/s]\n",
      "100%|████████████████████████████████████████████████████████████████| 10/10 [00:01<00:00,  8.60it/s]\n"
     ]
    },
    {
     "name": "stdout",
     "output_type": "stream",
     "text": [
      "Graph 7\n"
     ]
    },
    {
     "name": "stderr",
     "output_type": "stream",
     "text": [
      "100%|███████████████████████████████████████████████████████████████| 10/10 [00:00<00:00, 251.35it/s]\n",
      "100%|████████████████████████████████████████████████████████████████| 10/10 [00:00<00:00, 11.48it/s]\n",
      "100%|████████████████████████████████████████████████████████████████| 10/10 [00:01<00:00,  6.34it/s]\n",
      "100%|████████████████████████████████████████████████████████████████| 10/10 [00:01<00:00,  8.43it/s]\n",
      "100%|████████████████████████████████████████████████████████████████| 10/10 [00:01<00:00,  8.58it/s]\n",
      "100%|████████████████████████████████████████████████████████████████| 10/10 [00:01<00:00,  9.11it/s]\n"
     ]
    },
    {
     "name": "stdout",
     "output_type": "stream",
     "text": [
      "Graph 8\n"
     ]
    },
    {
     "name": "stderr",
     "output_type": "stream",
     "text": [
      "100%|███████████████████████████████████████████████████████████████| 10/10 [00:00<00:00, 248.84it/s]\n",
      "100%|████████████████████████████████████████████████████████████████| 10/10 [00:00<00:00, 12.72it/s]\n",
      "100%|████████████████████████████████████████████████████████████████| 10/10 [00:01<00:00,  5.74it/s]\n",
      "100%|████████████████████████████████████████████████████████████████| 10/10 [00:01<00:00,  8.24it/s]\n",
      "100%|████████████████████████████████████████████████████████████████| 10/10 [00:01<00:00,  9.10it/s]\n",
      "100%|████████████████████████████████████████████████████████████████| 10/10 [00:01<00:00,  8.42it/s]\n"
     ]
    },
    {
     "name": "stdout",
     "output_type": "stream",
     "text": [
      "Graph 9\n"
     ]
    },
    {
     "name": "stderr",
     "output_type": "stream",
     "text": [
      "100%|███████████████████████████████████████████████████████████████| 10/10 [00:00<00:00, 250.78it/s]\n",
      "100%|████████████████████████████████████████████████████████████████| 10/10 [00:00<00:00, 14.61it/s]\n",
      "100%|████████████████████████████████████████████████████████████████| 10/10 [00:01<00:00,  8.72it/s]\n",
      "100%|████████████████████████████████████████████████████████████████| 10/10 [00:01<00:00,  8.54it/s]\n",
      "100%|████████████████████████████████████████████████████████████████| 10/10 [00:01<00:00,  9.24it/s]\n",
      "100%|████████████████████████████████████████████████████████████████| 10/10 [00:01<00:00,  9.56it/s]\n"
     ]
    },
    {
     "name": "stdout",
     "output_type": "stream",
     "text": [
      "Graph 10\n"
     ]
    },
    {
     "name": "stderr",
     "output_type": "stream",
     "text": [
      "100%|███████████████████████████████████████████████████████████████| 10/10 [00:00<00:00, 238.95it/s]\n",
      "100%|████████████████████████████████████████████████████████████████| 10/10 [00:00<00:00, 17.03it/s]\n",
      "100%|████████████████████████████████████████████████████████████████| 10/10 [00:02<00:00,  4.41it/s]\n",
      "100%|████████████████████████████████████████████████████████████████| 10/10 [00:01<00:00,  7.06it/s]\n",
      "100%|████████████████████████████████████████████████████████████████| 10/10 [00:01<00:00,  8.58it/s]\n",
      "100%|████████████████████████████████████████████████████████████████| 10/10 [00:01<00:00,  9.14it/s]\n"
     ]
    },
    {
     "name": "stdout",
     "output_type": "stream",
     "text": [
      "Graph 1\n"
     ]
    },
    {
     "name": "stderr",
     "output_type": "stream",
     "text": [
      "100%|███████████████████████████████████████████████████████████████| 10/10 [00:00<00:00, 240.93it/s]\n",
      "100%|████████████████████████████████████████████████████████████████| 10/10 [00:00<00:00, 11.30it/s]\n",
      "100%|████████████████████████████████████████████████████████████████| 10/10 [00:01<00:00,  7.90it/s]\n",
      "100%|████████████████████████████████████████████████████████████████| 10/10 [00:01<00:00,  8.77it/s]\n",
      "100%|████████████████████████████████████████████████████████████████| 10/10 [00:01<00:00,  8.59it/s]\n",
      "100%|████████████████████████████████████████████████████████████████| 10/10 [00:01<00:00,  9.00it/s]\n"
     ]
    },
    {
     "name": "stdout",
     "output_type": "stream",
     "text": [
      "Graph 2\n"
     ]
    },
    {
     "name": "stderr",
     "output_type": "stream",
     "text": [
      "100%|███████████████████████████████████████████████████████████████| 10/10 [00:00<00:00, 248.48it/s]\n",
      "100%|████████████████████████████████████████████████████████████████| 10/10 [00:00<00:00, 12.08it/s]\n",
      "100%|████████████████████████████████████████████████████████████████| 10/10 [00:01<00:00,  8.21it/s]\n",
      "100%|████████████████████████████████████████████████████████████████| 10/10 [00:01<00:00,  8.86it/s]\n",
      "100%|████████████████████████████████████████████████████████████████| 10/10 [00:01<00:00,  9.56it/s]\n",
      "100%|████████████████████████████████████████████████████████████████| 10/10 [00:01<00:00,  9.57it/s]\n"
     ]
    },
    {
     "name": "stdout",
     "output_type": "stream",
     "text": [
      "Graph 3\n"
     ]
    },
    {
     "name": "stderr",
     "output_type": "stream",
     "text": [
      "100%|███████████████████████████████████████████████████████████████| 10/10 [00:00<00:00, 246.37it/s]\n",
      "100%|████████████████████████████████████████████████████████████████| 10/10 [00:00<00:00, 13.63it/s]\n",
      "100%|████████████████████████████████████████████████████████████████| 10/10 [00:01<00:00,  7.97it/s]\n",
      "100%|████████████████████████████████████████████████████████████████| 10/10 [00:01<00:00,  8.63it/s]\n",
      "100%|████████████████████████████████████████████████████████████████| 10/10 [00:01<00:00,  9.59it/s]\n",
      "100%|████████████████████████████████████████████████████████████████| 10/10 [00:01<00:00,  8.76it/s]\n"
     ]
    },
    {
     "name": "stdout",
     "output_type": "stream",
     "text": [
      "Graph 4\n"
     ]
    },
    {
     "name": "stderr",
     "output_type": "stream",
     "text": [
      "100%|███████████████████████████████████████████████████████████████| 10/10 [00:00<00:00, 231.33it/s]\n",
      "100%|████████████████████████████████████████████████████████████████| 10/10 [00:00<00:00, 13.65it/s]\n",
      "100%|████████████████████████████████████████████████████████████████| 10/10 [00:02<00:00,  4.69it/s]\n",
      "100%|████████████████████████████████████████████████████████████████| 10/10 [00:01<00:00,  7.22it/s]\n",
      "100%|████████████████████████████████████████████████████████████████| 10/10 [00:01<00:00,  9.06it/s]\n",
      "100%|████████████████████████████████████████████████████████████████| 10/10 [00:01<00:00,  9.03it/s]\n"
     ]
    },
    {
     "name": "stdout",
     "output_type": "stream",
     "text": [
      "Graph 5\n"
     ]
    },
    {
     "name": "stderr",
     "output_type": "stream",
     "text": [
      "100%|███████████████████████████████████████████████████████████████| 10/10 [00:00<00:00, 250.44it/s]\n",
      "100%|████████████████████████████████████████████████████████████████| 10/10 [00:00<00:00, 14.80it/s]\n",
      "100%|████████████████████████████████████████████████████████████████| 10/10 [00:01<00:00,  8.33it/s]\n",
      "100%|████████████████████████████████████████████████████████████████| 10/10 [00:01<00:00,  8.34it/s]\n",
      "100%|████████████████████████████████████████████████████████████████| 10/10 [00:01<00:00,  9.23it/s]\n",
      "100%|████████████████████████████████████████████████████████████████| 10/10 [00:01<00:00,  9.71it/s]\n"
     ]
    },
    {
     "name": "stdout",
     "output_type": "stream",
     "text": [
      "Graph 6\n"
     ]
    },
    {
     "name": "stderr",
     "output_type": "stream",
     "text": [
      "100%|███████████████████████████████████████████████████████████████| 10/10 [00:00<00:00, 252.83it/s]\n",
      "100%|████████████████████████████████████████████████████████████████| 10/10 [00:00<00:00, 15.95it/s]\n",
      "100%|████████████████████████████████████████████████████████████████| 10/10 [00:02<00:00,  3.89it/s]\n",
      "100%|████████████████████████████████████████████████████████████████| 10/10 [00:01<00:00,  7.09it/s]\n",
      "100%|████████████████████████████████████████████████████████████████| 10/10 [00:01<00:00,  8.27it/s]\n",
      "100%|████████████████████████████████████████████████████████████████| 10/10 [00:01<00:00,  8.72it/s]\n"
     ]
    },
    {
     "name": "stdout",
     "output_type": "stream",
     "text": [
      "Graph 7\n"
     ]
    },
    {
     "name": "stderr",
     "output_type": "stream",
     "text": [
      "100%|███████████████████████████████████████████████████████████████| 10/10 [00:00<00:00, 251.06it/s]\n",
      "100%|████████████████████████████████████████████████████████████████| 10/10 [00:01<00:00,  9.49it/s]\n",
      "100%|████████████████████████████████████████████████████████████████| 10/10 [00:02<00:00,  4.11it/s]\n",
      "100%|████████████████████████████████████████████████████████████████| 10/10 [00:01<00:00,  7.17it/s]\n",
      "100%|████████████████████████████████████████████████████████████████| 10/10 [00:01<00:00,  8.70it/s]\n",
      "100%|████████████████████████████████████████████████████████████████| 10/10 [00:01<00:00,  8.71it/s]\n"
     ]
    },
    {
     "name": "stdout",
     "output_type": "stream",
     "text": [
      "Graph 8\n"
     ]
    },
    {
     "name": "stderr",
     "output_type": "stream",
     "text": [
      "100%|███████████████████████████████████████████████████████████████| 10/10 [00:00<00:00, 243.06it/s]\n",
      "100%|████████████████████████████████████████████████████████████████| 10/10 [00:00<00:00, 16.00it/s]\n",
      "100%|████████████████████████████████████████████████████████████████| 10/10 [00:02<00:00,  4.19it/s]\n",
      "100%|████████████████████████████████████████████████████████████████| 10/10 [00:01<00:00,  7.41it/s]\n",
      "100%|████████████████████████████████████████████████████████████████| 10/10 [00:01<00:00,  8.50it/s]\n",
      "100%|████████████████████████████████████████████████████████████████| 10/10 [00:01<00:00,  8.46it/s]\n"
     ]
    },
    {
     "name": "stdout",
     "output_type": "stream",
     "text": [
      "Graph 9\n"
     ]
    },
    {
     "name": "stderr",
     "output_type": "stream",
     "text": [
      "100%|███████████████████████████████████████████████████████████████| 10/10 [00:00<00:00, 266.15it/s]\n",
      "100%|████████████████████████████████████████████████████████████████| 10/10 [00:00<00:00, 12.34it/s]\n",
      "100%|████████████████████████████████████████████████████████████████| 10/10 [00:02<00:00,  4.61it/s]\n",
      "100%|████████████████████████████████████████████████████████████████| 10/10 [00:01<00:00,  6.90it/s]\n",
      "100%|████████████████████████████████████████████████████████████████| 10/10 [00:01<00:00,  8.73it/s]\n",
      "100%|████████████████████████████████████████████████████████████████| 10/10 [00:01<00:00,  8.61it/s]\n"
     ]
    },
    {
     "name": "stdout",
     "output_type": "stream",
     "text": [
      "Graph 10\n"
     ]
    }
   ],
   "source": [
    "acqs = ['greedy', 'maxv','cv', 'civ', 'civ']\n",
    "measure = [None, None, None, 'unif', 'ow']\n",
    "known_variance = [False, True, True, True, True]\n",
    "name = ['greedy', 'maxv', 'cv', 'civ', 'civow']\n",
    "\n",
    "Data = []\n",
    "Mis_DAG = []\n",
    "\n",
    "for num_edge in range(1,1+num_edge_max,1):\n",
    "    MSEs = []\n",
    "    As = []\n",
    "    Probs = []\n",
    "    for i in range(num_instances):\n",
    "        problem = problems[i]\n",
    "\n",
    "        DAG = deepcopy(problem.DAG)\n",
    "        mis_DAG = Mis_func(DAG, num_edge)\n",
    "        Mis_DAG.append(mis_DAG)\n",
    "        problem.DAG = mis_DAG\n",
    "\n",
    "        A = {}\n",
    "        Prob = {}\n",
    "        Time = {}\n",
    "\n",
    "        opts.active = False\n",
    "        A['passive'], Prob['passive'] = run(problem, opts)\n",
    "\n",
    "        opts.active = True\n",
    "        for a in range(len(acqs)):\n",
    "            opts.acq = acqs[a]\n",
    "            opts.measure = measure[a]\n",
    "            opts.known_noise = known_variance[a]\n",
    "            A[name[a]], Prob[name[a]] = run(problem, opts)\n",
    "\n",
    "        print(f'Graph {i+1}')\n",
    "\n",
    "        As.append(A)\n",
    "        Probs.append(Prob)\n",
    "\n",
    "        problem.DAG = DAG\n",
    "\n",
    "    mu_MSEs = []\n",
    "    for i in range(num_instances):\n",
    "        Prob = Probs[i]\n",
    "        problem = problems[i]\n",
    "        mu_mses = {k:[] for k in ['passive', 'greedy', 'maxv', 'cv', 'civ', 'civow']}\n",
    "        for r in range(opts.R):\n",
    "            for k in ['passive', 'greedy', 'maxv', 'cv', 'civ', 'civow']:\n",
    "                mse = []\n",
    "                for prob in Prob[k][r]:\n",
    "                    errs = abs(np.dot(problem.A,np.dot(np.eye(problem.nnodes)-np.array(prob['mean']),problem.mu_target)) - problem.mu_target)\n",
    "                    mse.append(np.linalg.norm(np.concatenate(errs)) / np.linalg.norm(problem.mu_target))\n",
    "                mu_mses[k].append(mse)\n",
    "        mu_MSEs.append(mu_mses)\n",
    "\n",
    "    data = []\n",
    "    for k in ['passive', 'greedy', 'maxv', 'cv', 'civ', 'civow']:\n",
    "        data.append([np.array(mu_MSEs[i][k]).mean(axis=0)[-1] for i in range(num_instances)])\n",
    "\n",
    "    Data += [data]"
   ]
  },
  {
   "cell_type": "markdown",
   "metadata": {},
   "source": [
    "### Plot results"
   ]
  },
  {
   "cell_type": "code",
   "execution_count": 8,
   "metadata": {},
   "outputs": [
    {
     "data": {
      "text/plain": [
       "<Figure size 432x288 with 0 Axes>"
      ]
     },
     "metadata": {},
     "output_type": "display_data"
    },
    {
     "data": {
      "image/png": "[encoded data removed]",
      "text/plain": [
       "<Figure size 403.2x273.6 with 1 Axes>"
      ]
     },
     "metadata": {
      "needs_background": "light"
     },
     "output_type": "display_data"
    }
   ],
   "source": [
    "plt.clf()\n",
    "fig, ax = plt.subplots(1,1,figsize=(5.6,3.8))\n",
    "plt.rcParams.update({'font.size': 12})\n",
    "\n",
    "plt.yscale('log')\n",
    "\n",
    "labels = ['Random', 'Greedy', 'MaxV', 'CV', 'CIV', 'CIV-OW']\n",
    "colors = ['#069AF3', '#9ACD32', 'black', 'grey', 'orange', '#C79FEF']\n",
    "markers = ['^', 'o', 'o', 'o', 's', 's']\n",
    "linestyles = ['--','--','--', '--','-', '-']\n",
    "for i, k in enumerate(['passive', 'greedy', 'maxv', 'cv', 'civ', 'civow']):\n",
    "    data = [D[i] for D in Data]\n",
    "    mean = np.array([np.mean(d) for d in data])\n",
    "    std = np.array([np.std(d) for d in data])\n",
    "    plt.plot(range(num_edge_max), mean, label=labels[i], linewidth=2, color=colors[i], marker=markers[i], markersize=6, linestyle=linestyles[i])\n",
    "#     plt.fill_between(range(3), mean - std, mean + std, alpha=.2, color=colors[i])\n",
    "\n",
    "ax.set_xticks(range(num_edge_max))\n",
    "ax.spines.right.set_visible(False)\n",
    "ax.spines.top.set_visible(False)\n",
    "# plt.ylim(0.01,1)\n",
    "\n",
    "plt.legend(loc='lower right')\n",
    "plt.xlabel(r'SHD (excessive edges)')\n",
    "plt.ylabel(r'$||\\mu_t^*-\\mu^*||_2~/~||\\mu^*||_2$ (log scale)')\n",
    "# plt.title(f'relative')\n",
    "plt.tight_layout()\n",
    "\n",
    "# plt.savefig('figures/misspecgraphs/excessive_edge.pdf')"
   ]
  },
  {
   "cell_type": "code",
   "execution_count": null,
   "metadata": {},
   "outputs": [],
   "source": []
  }
 ],
 "metadata": {
  "kernelspec": {
   "display_name": "Python 3 (ipykernel)",
   "language": "python",
   "name": "python3"
  },
  "language_info": {
   "codemirror_mode": {
    "name": "ipython",
    "version": 3
   },
   "file_extension": ".py",
   "mimetype": "text/x-python",
   "name": "python",
   "nbconvert_exporter": "python",
   "pygments_lexer": "ipython3",
   "version": "3.9.10"
  },
  "vscode": {
   "interpreter": {
    "hash": "072e0b1c1e434c456c26afce7d6f007bcf885fc1b32e7460a12ca36f267d17b5"
   }
  }
 },
 "nbformat": 4,
 "nbformat_minor": 2
}
