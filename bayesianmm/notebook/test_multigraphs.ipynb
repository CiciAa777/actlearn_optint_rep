{
 "cells": [
  {
   "cell_type": "code",
   "execution_count": 1,
   "metadata": {},
   "outputs": [],
   "source": [
    "# import os\n",
    "# import json\n",
    "# import pprint as pp\n",
    "from argparse import Namespace\n",
    "import numpy as np\n",
    "import matplotlib.pyplot as plt\n",
    "\n",
    "from bayesianmm.data import mean_match, gen_dag\n",
    "from bayesianmm.run import run\n",
    "\n",
    "from bayesianmm.visualize import *\n",
    "from bayesianmm.eval import *"
   ]
  },
  {
   "cell_type": "code",
   "execution_count": 42,
   "metadata": {},
   "outputs": [],
   "source": [
    "seed = 1234\n",
    "np.random.seed(seed)\n",
    "\n",
    "# generate problem instantiation\n",
    "p = 30\n",
    "sigma_square = np.ones(p)\n",
    "DAG_type = 'path'\n",
    "\n",
    "g = 10\n",
    "problems = []\n",
    "S = 10\n",
    "# end = p-S if S>1 else p-S-1\n",
    "end = p-max(int(S/3),2)\n",
    "start = max(int(S/3),2)\n",
    "target = np.random.choice(np.arange(start,end,1), S, replace=False)\n",
    "\n",
    "# graph = gen_dag(nnodes=p, DAG_type=DAG_type)\n",
    "for _ in range(g):\n",
    "\tproblem = mean_match(nnodes=p, sigma_square=sigma_square, S=S, DAG_type=DAG_type, std=True, target=target) #[i+end for i in range(S)]) #, prefix_DAG=graph)\n",
    "\tproblems.append(problem)"
   ]
  },
  {
   "cell_type": "code",
   "execution_count": 43,
   "metadata": {
    "scrolled": true
   },
   "outputs": [
    {
     "name": "stdout",
     "output_type": "stream",
     "text": [
      "there are no undirected edges\n",
      "plotting...\n"
     ]
    },
    {
     "data": {
      "image/png": "[encoded data removed]",
      "text/plain": [
       "<Figure size 288x288 with 1 Axes>"
      ]
     },
     "metadata": {},
     "output_type": "display_data"
    }
   ],
   "source": [
    "draw(\n",
    "\tproblem.DAG, \n",
    "\tcolored_set = set(i for i in range(problem.nnodes) if problem.a_target[i]!=0), \n",
    "\taffected_set=set().union(*[problem.DAG.descendants_of(i) for i in range(problem.nnodes) if problem.a_target[i]!=0]),\n",
    "\t# savefile='results/tmp/1.png'\n",
    "\t)"
   ]
  },
  {
   "cell_type": "code",
   "execution_count": 44,
   "metadata": {},
   "outputs": [],
   "source": [
    "# options for testing\n",
    "opts = Namespace(N=1, T=50, W=0, R=20, nS=0, verbose=False)"
   ]
  },
  {
   "cell_type": "code",
   "execution_count": 45,
   "metadata": {},
   "outputs": [
    {
     "name": "stderr",
     "output_type": "stream",
     "text": [
      "100%|██████████| 20/20 [00:01<00:00, 14.64it/s]\n",
      "100%|██████████| 20/20 [00:22<00:00,  1.12s/it]\n",
      "  5%|▌         | 1/20 [00:08<02:49,  8.94s/it]"
     ]
    },
    {
     "name": "stdout",
     "output_type": "stream",
     "text": [
      "Optimization fails...\n",
      "Iteration limit reached\n",
      "1st initialization (last round) failed...\n"
     ]
    },
    {
     "name": "stderr",
     "output_type": "stream",
     "text": [
      "\r",
      " 10%|█         | 2/20 [00:17<02:34,  8.58s/it]"
     ]
    },
    {
     "name": "stdout",
     "output_type": "stream",
     "text": [
      "Optimization fails...\n",
      "Iteration limit reached\n"
     ]
    },
    {
     "name": "stderr",
     "output_type": "stream",
     "text": [
      "\r",
      " 15%|█▌        | 3/20 [00:22<02:00,  7.11s/it]"
     ]
    },
    {
     "name": "stdout",
     "output_type": "stream",
     "text": [
      "Optimization fails...\n",
      "Iteration limit reached\n",
      "1st initialization (last round) failed...\n"
     ]
    },
    {
     "name": "stderr",
     "output_type": "stream",
     "text": [
      "\r",
      " 20%|██        | 4/20 [00:29<01:51,  6.97s/it]"
     ]
    },
    {
     "name": "stdout",
     "output_type": "stream",
     "text": [
      "Optimization fails...\n",
      "Iteration limit reached\n",
      "Optimization fails...\n",
      "Iteration limit reached\n",
      "1st initialization (last round) failed...\n",
      "Optimization fails...\n",
      "Iteration limit reached\n",
      "2nd initialization (estimate) failed...\n"
     ]
    },
    {
     "name": "stderr",
     "output_type": "stream",
     "text": [
      "\r",
      " 25%|██▌       | 5/20 [00:36<01:45,  7.03s/it]"
     ]
    },
    {
     "name": "stdout",
     "output_type": "stream",
     "text": [
      "Optimization fails...\n",
      "Iteration limit reached\n",
      "Optimization fails...\n",
      "Iteration limit reached\n",
      "1st initialization (last round) failed...\n"
     ]
    },
    {
     "name": "stderr",
     "output_type": "stream",
     "text": [
      "\r",
      " 30%|███       | 6/20 [00:41<01:29,  6.41s/it]"
     ]
    },
    {
     "name": "stdout",
     "output_type": "stream",
     "text": [
      "Optimization fails...\n",
      "Iteration limit reached\n",
      "Optimization fails...\n",
      "Iteration limit reached\n",
      "1st initialization (last round) failed...\n"
     ]
    },
    {
     "name": "stderr",
     "output_type": "stream",
     "text": [
      "\r",
      " 35%|███▌      | 7/20 [00:47<01:21,  6.30s/it]"
     ]
    },
    {
     "name": "stdout",
     "output_type": "stream",
     "text": [
      "Optimization fails...\n",
      "Iteration limit reached\n"
     ]
    },
    {
     "name": "stderr",
     "output_type": "stream",
     "text": [
      "\r",
      " 40%|████      | 8/20 [00:57<01:28,  7.36s/it]"
     ]
    },
    {
     "name": "stdout",
     "output_type": "stream",
     "text": [
      "Optimization fails...\n",
      "Iteration limit reached\n"
     ]
    },
    {
     "name": "stderr",
     "output_type": "stream",
     "text": [
      "\r",
      " 45%|████▌     | 9/20 [01:06<01:27,  7.97s/it]"
     ]
    },
    {
     "name": "stdout",
     "output_type": "stream",
     "text": [
      "Optimization fails...\n",
      "Iteration limit reached\n"
     ]
    },
    {
     "name": "stderr",
     "output_type": "stream",
     "text": [
      "\r",
      " 50%|█████     | 10/20 [01:14<01:20,  8.03s/it]"
     ]
    },
    {
     "name": "stdout",
     "output_type": "stream",
     "text": [
      "Optimization fails...\n",
      "Iteration limit reached\n"
     ]
    },
    {
     "name": "stderr",
     "output_type": "stream",
     "text": [
      "\r",
      " 55%|█████▌    | 11/20 [01:27<01:26,  9.58s/it]"
     ]
    },
    {
     "name": "stdout",
     "output_type": "stream",
     "text": [
      "Optimization fails...\n",
      "Singular matrix E in LSQ subproblem\n",
      "Optimization fails...\n",
      "Iteration limit reached\n",
      "2nd initialization (estimate) failed...\n"
     ]
    },
    {
     "name": "stderr",
     "output_type": "stream",
     "text": [
      " 65%|██████▌   | 13/20 [01:46<01:06,  9.57s/it]"
     ]
    },
    {
     "name": "stdout",
     "output_type": "stream",
     "text": [
      "Optimization fails...\n",
      "Iteration limit reached\n"
     ]
    },
    {
     "name": "stderr",
     "output_type": "stream",
     "text": [
      "\r",
      " 70%|███████   | 14/20 [01:55<00:56,  9.47s/it]"
     ]
    },
    {
     "name": "stdout",
     "output_type": "stream",
     "text": [
      "Optimization fails...\n",
      "Iteration limit reached\n",
      "Optimization fails...\n",
      "Iteration limit reached\n",
      "Optimization fails...\n",
      "Inequality constraints incompatible\n",
      "both initializations failed...\n"
     ]
    },
    {
     "name": "stderr",
     "output_type": "stream",
     "text": [
      "\r",
      " 75%|███████▌  | 15/20 [02:04<00:46,  9.32s/it]"
     ]
    },
    {
     "name": "stdout",
     "output_type": "stream",
     "text": [
      "Optimization fails...\n",
      "Iteration limit reached\n",
      "2nd initialization (estimate) failed...\n"
     ]
    },
    {
     "name": "stderr",
     "output_type": "stream",
     "text": [
      " 85%|████████▌ | 17/20 [02:23<00:27,  9.12s/it]"
     ]
    },
    {
     "name": "stdout",
     "output_type": "stream",
     "text": [
      "Optimization fails...\n",
      "Iteration limit reached\n"
     ]
    },
    {
     "name": "stderr",
     "output_type": "stream",
     "text": [
      "\r",
      " 90%|█████████ | 18/20 [02:29<00:16,  8.45s/it]"
     ]
    },
    {
     "name": "stdout",
     "output_type": "stream",
     "text": [
      "Optimization fails...\n",
      "Iteration limit reached\n",
      "2nd initialization (estimate) failed...\n"
     ]
    },
    {
     "name": "stderr",
     "output_type": "stream",
     "text": [
      "100%|██████████| 20/20 [02:44<00:00,  8.25s/it]\n",
      " 65%|██████▌   | 13/20 [00:19<00:10,  1.51s/it]"
     ]
    },
    {
     "name": "stdout",
     "output_type": "stream",
     "text": [
      "Optimization fails...\n",
      "Iteration limit reached\n"
     ]
    },
    {
     "name": "stderr",
     "output_type": "stream",
     "text": [
      "100%|██████████| 20/20 [00:28<00:00,  1.43s/it]\n",
      "100%|██████████| 20/20 [00:46<00:00,  2.32s/it]\n",
      "100%|██████████| 20/20 [00:59<00:00,  2.95s/it]\n"
     ]
    },
    {
     "name": "stdout",
     "output_type": "stream",
     "text": [
      "Graph 1\n"
     ]
    },
    {
     "data": {
      "text/plain": [
       "<Figure size 432x288 with 0 Axes>"
      ]
     },
     "metadata": {},
     "output_type": "display_data"
    },
    {
     "data": {
      "image/png": "[encoded data removed]",
      "text/plain": [
       "<Figure size 576x216 with 2 Axes>"
      ]
     },
     "metadata": {
      "needs_background": "light"
     },
     "output_type": "display_data"
    },
    {
     "name": "stderr",
     "output_type": "stream",
     "text": [
      "100%|██████████| 20/20 [00:01<00:00, 14.29it/s]\n",
      "100%|██████████| 20/20 [00:19<00:00,  1.01it/s]\n",
      "  0%|          | 0/20 [00:00<?, ?it/s]"
     ]
    },
    {
     "name": "stdout",
     "output_type": "stream",
     "text": [
      "Optimization fails...\n",
      "Singular matrix E in LSQ subproblem\n",
      "Optimization fails...\n",
      "Iteration limit reached\n",
      "1st initialization (last round) failed...\n"
     ]
    },
    {
     "name": "stderr",
     "output_type": "stream",
     "text": [
      "\r",
      "  5%|▌         | 1/20 [00:09<03:03,  9.63s/it]"
     ]
    },
    {
     "name": "stdout",
     "output_type": "stream",
     "text": [
      "Optimization fails...\n",
      "Iteration limit reached\n",
      "Optimization fails...\n",
      "Iteration limit reached\n",
      "1st initialization (last round) failed...\n"
     ]
    },
    {
     "name": "stderr",
     "output_type": "stream",
     "text": [
      "\r",
      " 10%|█         | 2/20 [00:29<04:41, 15.63s/it]"
     ]
    },
    {
     "name": "stdout",
     "output_type": "stream",
     "text": [
      "Optimization fails...\n",
      "Singular matrix E in LSQ subproblem\n",
      "Optimization fails...\n",
      "Iteration limit reached\n",
      "1st initialization (last round) failed...\n"
     ]
    },
    {
     "name": "stderr",
     "output_type": "stream",
     "text": [
      " 20%|██        | 4/20 [00:47<03:02, 11.43s/it]"
     ]
    },
    {
     "name": "stdout",
     "output_type": "stream",
     "text": [
      "Optimization fails...\n",
      "Iteration limit reached\n"
     ]
    },
    {
     "name": "stderr",
     "output_type": "stream",
     "text": [
      "\r",
      " 25%|██▌       | 5/20 [00:54<02:30, 10.02s/it]"
     ]
    },
    {
     "name": "stdout",
     "output_type": "stream",
     "text": [
      "Optimization fails...\n",
      "Iteration limit reached\n",
      "1st initialization (last round) failed...\n"
     ]
    },
    {
     "name": "stderr",
     "output_type": "stream",
     "text": [
      " 35%|███▌      | 7/20 [01:02<01:28,  6.84s/it]"
     ]
    },
    {
     "name": "stdout",
     "output_type": "stream",
     "text": [
      "Optimization fails...\n",
      "Singular matrix E in LSQ subproblem\n",
      "Optimization fails...\n",
      "Iteration limit reached\n",
      "1st initialization (last round) failed...\n"
     ]
    },
    {
     "name": "stderr",
     "output_type": "stream",
     "text": [
      "\r",
      " 40%|████      | 8/20 [01:13<01:35,  7.96s/it]"
     ]
    },
    {
     "name": "stdout",
     "output_type": "stream",
     "text": [
      "Optimization fails...\n",
      "Iteration limit reached\n",
      "Optimization fails...\n",
      "Iteration limit reached\n",
      "1st initialization (last round) failed...\n"
     ]
    },
    {
     "name": "stderr",
     "output_type": "stream",
     "text": [
      " 50%|█████     | 10/20 [01:29<01:21,  8.10s/it]"
     ]
    },
    {
     "name": "stdout",
     "output_type": "stream",
     "text": [
      "Optimization fails...\n",
      "Iteration limit reached\n"
     ]
    },
    {
     "name": "stderr",
     "output_type": "stream",
     "text": [
      "\r",
      " 55%|█████▌    | 11/20 [01:34<01:05,  7.25s/it]"
     ]
    },
    {
     "name": "stdout",
     "output_type": "stream",
     "text": [
      "Optimization fails...\n",
      "Singular matrix E in LSQ subproblem\n",
      "Optimization fails...\n",
      "Iteration limit reached\n",
      "1st initialization (last round) failed...\n"
     ]
    },
    {
     "name": "stderr",
     "output_type": "stream",
     "text": [
      "\r",
      " 60%|██████    | 12/20 [01:43<01:02,  7.83s/it]"
     ]
    },
    {
     "name": "stdout",
     "output_type": "stream",
     "text": [
      "Optimization fails...\n",
      "Iteration limit reached\n",
      "Optimization fails...\n",
      "Iteration limit reached\n",
      "1st initialization (last round) failed...\n"
     ]
    },
    {
     "name": "stderr",
     "output_type": "stream",
     "text": [
      "\r",
      " 65%|██████▌   | 13/20 [01:49<00:50,  7.21s/it]"
     ]
    },
    {
     "name": "stdout",
     "output_type": "stream",
     "text": [
      "Optimization fails...\n",
      "Iteration limit reached\n",
      "1st initialization (last round) failed...\n"
     ]
    },
    {
     "name": "stderr",
     "output_type": "stream",
     "text": [
      " 75%|███████▌  | 15/20 [02:03<00:35,  7.13s/it]"
     ]
    },
    {
     "name": "stdout",
     "output_type": "stream",
     "text": [
      "Optimization fails...\n",
      "Iteration limit reached\n",
      "1st initialization (last round) failed...\n"
     ]
    },
    {
     "name": "stderr",
     "output_type": "stream",
     "text": [
      "\r",
      " 80%|████████  | 16/20 [02:10<00:28,  7.03s/it]"
     ]
    },
    {
     "name": "stdout",
     "output_type": "stream",
     "text": [
      "Optimization fails...\n",
      "Iteration limit reached\n",
      "Optimization fails...\n",
      "Iteration limit reached\n",
      "1st initialization (last round) failed...\n"
     ]
    },
    {
     "name": "stderr",
     "output_type": "stream",
     "text": [
      " 90%|█████████ | 18/20 [02:29<00:16,  8.06s/it]"
     ]
    },
    {
     "name": "stdout",
     "output_type": "stream",
     "text": [
      "Optimization fails...\n",
      "Iteration limit reached\n",
      "Optimization fails...\n",
      "Iteration limit reached\n",
      "1st initialization (last round) failed...\n",
      "Optimization fails...\n",
      "Iteration limit reached\n",
      "1st initialization (last round) failed...\n"
     ]
    },
    {
     "name": "stderr",
     "output_type": "stream",
     "text": [
      "\r",
      " 95%|█████████▌| 19/20 [02:35<00:07,  7.42s/it]"
     ]
    },
    {
     "name": "stdout",
     "output_type": "stream",
     "text": [
      "Optimization fails...\n",
      "Iteration limit reached\n",
      "Optimization fails...\n",
      "Iteration limit reached\n",
      "1st initialization (last round) failed...\n"
     ]
    },
    {
     "name": "stderr",
     "output_type": "stream",
     "text": [
      "100%|██████████| 20/20 [02:45<00:00,  8.28s/it]\n",
      " 40%|████      | 8/20 [00:10<00:16,  1.39s/it]"
     ]
    },
    {
     "name": "stdout",
     "output_type": "stream",
     "text": [
      "Optimization fails...\n",
      "Iteration limit reached\n",
      "1st initialization (last round) failed...\n"
     ]
    },
    {
     "name": "stderr",
     "output_type": "stream",
     "text": [
      " 50%|█████     | 10/20 [00:14<00:16,  1.64s/it]"
     ]
    },
    {
     "name": "stdout",
     "output_type": "stream",
     "text": [
      "Optimization fails...\n",
      "Singular matrix E in LSQ subproblem\n"
     ]
    },
    {
     "name": "stderr",
     "output_type": "stream",
     "text": [
      " 90%|█████████ | 18/20 [00:25<00:02,  1.31s/it]"
     ]
    },
    {
     "name": "stdout",
     "output_type": "stream",
     "text": [
      "Optimization fails...\n",
      "Singular matrix E in LSQ subproblem\n"
     ]
    },
    {
     "name": "stderr",
     "output_type": "stream",
     "text": [
      "100%|██████████| 20/20 [00:28<00:00,  1.41s/it]\n",
      "100%|██████████| 20/20 [00:45<00:00,  2.28s/it]\n",
      "100%|██████████| 20/20 [01:05<00:00,  3.28s/it]\n"
     ]
    },
    {
     "name": "stdout",
     "output_type": "stream",
     "text": [
      "Graph 2\n"
     ]
    },
    {
     "data": {
      "text/plain": [
       "<Figure size 432x288 with 0 Axes>"
      ]
     },
     "metadata": {},
     "output_type": "display_data"
    },
    {
     "data": {
      "image/png": "[encoded data removed]",
      "text/plain": [
       "<Figure size 576x216 with 2 Axes>"
      ]
     },
     "metadata": {
      "needs_background": "light"
     },
     "output_type": "display_data"
    },
    {
     "name": "stderr",
     "output_type": "stream",
     "text": [
      "100%|██████████| 20/20 [00:01<00:00, 14.32it/s]\n",
      "100%|██████████| 20/20 [00:20<00:00,  1.04s/it]\n",
      "  0%|          | 0/20 [00:00<?, ?it/s]"
     ]
    },
    {
     "name": "stdout",
     "output_type": "stream",
     "text": [
      "Optimization fails...\n",
      "Iteration limit reached\n",
      "Optimization fails...\n",
      "Iteration limit reached\n",
      "1st initialization (last round) failed...\n"
     ]
    },
    {
     "name": "stderr",
     "output_type": "stream",
     "text": [
      "\r",
      "  5%|▌         | 1/20 [00:10<03:17, 10.38s/it]"
     ]
    },
    {
     "name": "stdout",
     "output_type": "stream",
     "text": [
      "Optimization fails...\n",
      "Iteration limit reached\n",
      "Optimization fails...\n",
      "Iteration limit reached\n",
      "1st initialization (last round) failed...\n"
     ]
    },
    {
     "name": "stderr",
     "output_type": "stream",
     "text": [
      " 20%|██        | 4/20 [00:27<01:33,  5.86s/it]"
     ]
    },
    {
     "name": "stdout",
     "output_type": "stream",
     "text": [
      "Optimization fails...\n",
      "Iteration limit reached\n"
     ]
    },
    {
     "name": "stderr",
     "output_type": "stream",
     "text": [
      "\r",
      " 25%|██▌       | 5/20 [00:36<01:48,  7.22s/it]"
     ]
    },
    {
     "name": "stdout",
     "output_type": "stream",
     "text": [
      "Optimization fails...\n",
      "Inequality constraints incompatible\n",
      "1st initialization (last round) failed...\n"
     ]
    },
    {
     "name": "stderr",
     "output_type": "stream",
     "text": [
      " 35%|███▌      | 7/20 [00:46<01:17,  5.95s/it]"
     ]
    },
    {
     "name": "stdout",
     "output_type": "stream",
     "text": [
      "Optimization fails...\n",
      "Iteration limit reached\n"
     ]
    },
    {
     "name": "stderr",
     "output_type": "stream",
     "text": [
      "\r",
      " 40%|████      | 8/20 [00:57<01:29,  7.45s/it]"
     ]
    },
    {
     "name": "stdout",
     "output_type": "stream",
     "text": [
      "Optimization fails...\n",
      "Iteration limit reached\n"
     ]
    },
    {
     "name": "stderr",
     "output_type": "stream",
     "text": [
      "\r",
      " 45%|████▌     | 9/20 [01:07<01:31,  8.36s/it]"
     ]
    },
    {
     "name": "stdout",
     "output_type": "stream",
     "text": [
      "Optimization fails...\n",
      "Iteration limit reached\n"
     ]
    },
    {
     "name": "stderr",
     "output_type": "stream",
     "text": [
      "\r",
      " 50%|█████     | 10/20 [01:14<01:17,  7.75s/it]"
     ]
    },
    {
     "name": "stdout",
     "output_type": "stream",
     "text": [
      "Optimization fails...\n",
      "Iteration limit reached\n",
      "Optimization fails...\n",
      "Iteration limit reached\n",
      "Optimization fails...\n",
      "Iteration limit reached\n",
      "both initializations failed...\n"
     ]
    },
    {
     "name": "stderr",
     "output_type": "stream",
     "text": [
      "\r",
      " 55%|█████▌    | 11/20 [01:26<01:22,  9.20s/it]"
     ]
    },
    {
     "name": "stdout",
     "output_type": "stream",
     "text": [
      "Optimization fails...\n",
      "Iteration limit reached\n"
     ]
    },
    {
     "name": "stderr",
     "output_type": "stream",
     "text": [
      "\r",
      " 60%|██████    | 12/20 [01:33<01:07,  8.50s/it]"
     ]
    },
    {
     "name": "stdout",
     "output_type": "stream",
     "text": [
      "Optimization fails...\n",
      "Iteration limit reached\n",
      "Optimization fails...\n",
      "Iteration limit reached\n",
      "1st initialization (last round) failed...\n"
     ]
    },
    {
     "name": "stderr",
     "output_type": "stream",
     "text": [
      " 70%|███████   | 14/20 [01:48<00:47,  7.98s/it]"
     ]
    },
    {
     "name": "stdout",
     "output_type": "stream",
     "text": [
      "Optimization fails...\n",
      "Iteration limit reached\n",
      "1st initialization (last round) failed...\n"
     ]
    },
    {
     "name": "stderr",
     "output_type": "stream",
     "text": [
      "\r",
      " 75%|███████▌  | 15/20 [01:56<00:39,  7.85s/it]"
     ]
    },
    {
     "name": "stdout",
     "output_type": "stream",
     "text": [
      "Optimization fails...\n",
      "Iteration limit reached\n",
      "1st initialization (last round) failed...\n"
     ]
    },
    {
     "name": "stderr",
     "output_type": "stream",
     "text": [
      " 85%|████████▌ | 17/20 [02:09<00:21,  7.28s/it]"
     ]
    },
    {
     "name": "stdout",
     "output_type": "stream",
     "text": [
      "Optimization fails...\n",
      "Iteration limit reached\n",
      "Optimization fails...\n",
      "Iteration limit reached\n",
      "1st initialization (last round) failed...\n"
     ]
    },
    {
     "name": "stderr",
     "output_type": "stream",
     "text": [
      "\r",
      " 90%|█████████ | 18/20 [02:16<00:14,  7.11s/it]"
     ]
    },
    {
     "name": "stdout",
     "output_type": "stream",
     "text": [
      "Optimization fails...\n",
      "Iteration limit reached\n"
     ]
    },
    {
     "name": "stderr",
     "output_type": "stream",
     "text": [
      "\r",
      " 95%|█████████▌| 19/20 [02:24<00:07,  7.33s/it]"
     ]
    },
    {
     "name": "stdout",
     "output_type": "stream",
     "text": [
      "Optimization fails...\n",
      "Iteration limit reached\n",
      "1st initialization (last round) failed...\n"
     ]
    },
    {
     "name": "stderr",
     "output_type": "stream",
     "text": [
      "100%|██████████| 20/20 [02:31<00:00,  7.59s/it]\n",
      " 20%|██        | 4/20 [00:05<00:23,  1.47s/it]"
     ]
    },
    {
     "name": "stdout",
     "output_type": "stream",
     "text": [
      "Optimization fails...\n",
      "Iteration limit reached\n",
      "1st initialization (last round) failed...\n"
     ]
    },
    {
     "name": "stderr",
     "output_type": "stream",
     "text": [
      "100%|██████████| 20/20 [00:28<00:00,  1.40s/it]\n",
      "100%|██████████| 20/20 [00:45<00:00,  2.26s/it]\n",
      "100%|██████████| 20/20 [01:01<00:00,  3.07s/it]\n"
     ]
    },
    {
     "name": "stdout",
     "output_type": "stream",
     "text": [
      "Graph 3\n"
     ]
    },
    {
     "data": {
      "text/plain": [
       "<Figure size 432x288 with 0 Axes>"
      ]
     },
     "metadata": {},
     "output_type": "display_data"
    },
    {
     "data": {
      "image/png": "[encoded data removed]",
      "text/plain": [
       "<Figure size 576x216 with 2 Axes>"
      ]
     },
     "metadata": {
      "needs_background": "light"
     },
     "output_type": "display_data"
    },
    {
     "name": "stderr",
     "output_type": "stream",
     "text": [
      "100%|██████████| 20/20 [00:01<00:00, 14.27it/s]\n",
      "100%|██████████| 20/20 [00:23<00:00,  1.20s/it]\n",
      "  0%|          | 0/20 [00:00<?, ?it/s]"
     ]
    },
    {
     "name": "stdout",
     "output_type": "stream",
     "text": [
      "Optimization fails...\n",
      "Iteration limit reached\n",
      "Optimization fails...\n",
      "Iteration limit reached\n",
      "both initializations failed...\n",
      "Optimization fails...\n",
      "Iteration limit reached\n",
      "1st initialization (last round) failed...\n",
      "Optimization fails...\n",
      "Iteration limit reached\n",
      "2nd initialization (estimate) failed...\n"
     ]
    },
    {
     "name": "stderr",
     "output_type": "stream",
     "text": [
      " 10%|█         | 2/20 [00:20<02:54,  9.70s/it]"
     ]
    },
    {
     "name": "stdout",
     "output_type": "stream",
     "text": [
      "Optimization fails...\n",
      "Iteration limit reached\n",
      "1st initialization (last round) failed...\n"
     ]
    },
    {
     "name": "stderr",
     "output_type": "stream",
     "text": [
      "\r",
      " 15%|█▌        | 3/20 [00:29<02:39,  9.39s/it]"
     ]
    },
    {
     "name": "stdout",
     "output_type": "stream",
     "text": [
      "Optimization fails...\n",
      "Iteration limit reached\n",
      "1st initialization (last round) failed...\n"
     ]
    },
    {
     "name": "stderr",
     "output_type": "stream",
     "text": [
      "\r",
      " 20%|██        | 4/20 [00:39<02:34,  9.67s/it]"
     ]
    },
    {
     "name": "stdout",
     "output_type": "stream",
     "text": [
      "Optimization fails...\n",
      "Iteration limit reached\n",
      "1st initialization (last round) failed...\n",
      "Optimization fails...\n",
      "Iteration limit reached\n",
      "1st initialization (last round) failed...\n"
     ]
    },
    {
     "name": "stderr",
     "output_type": "stream",
     "text": [
      "\r",
      " 25%|██▌       | 5/20 [00:47<02:17,  9.16s/it]"
     ]
    },
    {
     "name": "stdout",
     "output_type": "stream",
     "text": [
      "Optimization fails...\n",
      "Iteration limit reached\n"
     ]
    },
    {
     "name": "stderr",
     "output_type": "stream",
     "text": [
      "\r",
      " 30%|███       | 6/20 [00:56<02:06,  9.00s/it]"
     ]
    },
    {
     "name": "stdout",
     "output_type": "stream",
     "text": [
      "Optimization fails...\n",
      "Iteration limit reached\n"
     ]
    },
    {
     "name": "stderr",
     "output_type": "stream",
     "text": [
      "\r",
      " 35%|███▌      | 7/20 [01:05<01:58,  9.13s/it]"
     ]
    },
    {
     "name": "stdout",
     "output_type": "stream",
     "text": [
      "Optimization fails...\n",
      "Iteration limit reached\n",
      "1st initialization (last round) failed...\n"
     ]
    },
    {
     "name": "stderr",
     "output_type": "stream",
     "text": [
      "\r",
      " 40%|████      | 8/20 [01:09<01:30,  7.58s/it]"
     ]
    },
    {
     "name": "stdout",
     "output_type": "stream",
     "text": [
      "Optimization fails...\n",
      "Iteration limit reached\n",
      "2nd initialization (estimate) failed...\n"
     ]
    },
    {
     "name": "stderr",
     "output_type": "stream",
     "text": [
      "\r",
      " 45%|████▌     | 9/20 [01:17<01:22,  7.47s/it]"
     ]
    },
    {
     "name": "stdout",
     "output_type": "stream",
     "text": [
      "Optimization fails...\n",
      "Iteration limit reached\n",
      "1st initialization (last round) failed...\n"
     ]
    },
    {
     "name": "stderr",
     "output_type": "stream",
     "text": [
      "\r",
      " 50%|█████     | 10/20 [01:23<01:10,  7.09s/it]"
     ]
    },
    {
     "name": "stdout",
     "output_type": "stream",
     "text": [
      "Optimization fails...\n",
      "Iteration limit reached\n",
      "Optimization fails...\n",
      "Iteration limit reached\n",
      "1st initialization (last round) failed...\n"
     ]
    },
    {
     "name": "stderr",
     "output_type": "stream",
     "text": [
      "\r",
      " 55%|█████▌    | 11/20 [01:29<01:01,  6.88s/it]"
     ]
    },
    {
     "name": "stdout",
     "output_type": "stream",
     "text": [
      "Optimization fails...\n",
      "Iteration limit reached\n"
     ]
    },
    {
     "name": "stderr",
     "output_type": "stream",
     "text": [
      "\r",
      " 60%|██████    | 12/20 [01:34<00:50,  6.29s/it]"
     ]
    },
    {
     "name": "stdout",
     "output_type": "stream",
     "text": [
      "Optimization fails...\n",
      "Iteration limit reached\n"
     ]
    },
    {
     "name": "stderr",
     "output_type": "stream",
     "text": [
      "\r",
      " 65%|██████▌   | 13/20 [01:39<00:41,  5.87s/it]"
     ]
    },
    {
     "name": "stdout",
     "output_type": "stream",
     "text": [
      "Optimization fails...\n",
      "Iteration limit reached\n",
      "Optimization fails...\n",
      "Iteration limit reached\n",
      "1st initialization (last round) failed...\n"
     ]
    },
    {
     "name": "stderr",
     "output_type": "stream",
     "text": [
      "\r",
      " 70%|███████   | 14/20 [01:47<00:39,  6.52s/it]"
     ]
    },
    {
     "name": "stdout",
     "output_type": "stream",
     "text": [
      "Optimization fails...\n",
      "Iteration limit reached\n"
     ]
    },
    {
     "name": "stderr",
     "output_type": "stream",
     "text": [
      "\r",
      " 75%|███████▌  | 15/20 [01:52<00:30,  6.12s/it]"
     ]
    },
    {
     "name": "stdout",
     "output_type": "stream",
     "text": [
      "Optimization fails...\n",
      "Iteration limit reached\n",
      "Optimization fails...\n",
      "Iteration limit reached\n",
      "1st initialization (last round) failed...\n"
     ]
    },
    {
     "name": "stderr",
     "output_type": "stream",
     "text": [
      "\r",
      " 80%|████████  | 16/20 [02:01<00:27,  7.00s/it]"
     ]
    },
    {
     "name": "stdout",
     "output_type": "stream",
     "text": [
      "Optimization fails...\n",
      "Iteration limit reached\n",
      "Optimization fails...\n",
      "Iteration limit reached\n",
      "1st initialization (last round) failed...\n"
     ]
    },
    {
     "name": "stderr",
     "output_type": "stream",
     "text": [
      "\r",
      " 85%|████████▌ | 17/20 [02:08<00:20,  6.86s/it]"
     ]
    },
    {
     "name": "stdout",
     "output_type": "stream",
     "text": [
      "Optimization fails...\n",
      "Iteration limit reached\n"
     ]
    },
    {
     "name": "stderr",
     "output_type": "stream",
     "text": [
      "\r",
      " 90%|█████████ | 18/20 [02:14<00:13,  6.77s/it]"
     ]
    },
    {
     "name": "stdout",
     "output_type": "stream",
     "text": [
      "Optimization fails...\n",
      "Iteration limit reached\n",
      "Optimization fails...\n",
      "Iteration limit reached\n",
      "2nd initialization (estimate) failed...\n"
     ]
    },
    {
     "name": "stderr",
     "output_type": "stream",
     "text": [
      "100%|██████████| 20/20 [02:33<00:00,  7.66s/it]\n",
      " 35%|███▌      | 7/20 [00:08<00:16,  1.28s/it]"
     ]
    },
    {
     "name": "stdout",
     "output_type": "stream",
     "text": [
      "Optimization fails...\n",
      "Iteration limit reached\n",
      "1st initialization (last round) failed...\n"
     ]
    },
    {
     "name": "stderr",
     "output_type": "stream",
     "text": [
      "\r",
      " 40%|████      | 8/20 [00:10<00:17,  1.49s/it]"
     ]
    },
    {
     "name": "stdout",
     "output_type": "stream",
     "text": [
      "Optimization fails...\n",
      "Iteration limit reached\n",
      "2nd initialization (estimate) failed...\n"
     ]
    },
    {
     "name": "stderr",
     "output_type": "stream",
     "text": [
      "100%|██████████| 20/20 [00:27<00:00,  1.40s/it]\n",
      "100%|██████████| 20/20 [00:44<00:00,  2.22s/it]\n",
      "100%|██████████| 20/20 [01:01<00:00,  3.05s/it]\n"
     ]
    },
    {
     "name": "stdout",
     "output_type": "stream",
     "text": [
      "Graph 4\n"
     ]
    },
    {
     "data": {
      "text/plain": [
       "<Figure size 432x288 with 0 Axes>"
      ]
     },
     "metadata": {},
     "output_type": "display_data"
    },
    {
     "data": {
      "image/png": "[encoded data removed]",
      "text/plain": [
       "<Figure size 576x216 with 2 Axes>"
      ]
     },
     "metadata": {
      "needs_background": "light"
     },
     "output_type": "display_data"
    },
    {
     "name": "stderr",
     "output_type": "stream",
     "text": [
      "100%|██████████| 20/20 [00:01<00:00, 14.13it/s]\n",
      "100%|██████████| 20/20 [00:21<00:00,  1.10s/it]\n",
      "  0%|          | 0/20 [00:00<?, ?it/s]"
     ]
    },
    {
     "name": "stdout",
     "output_type": "stream",
     "text": [
      "Optimization fails...\n",
      "Iteration limit reached\n"
     ]
    },
    {
     "name": "stderr",
     "output_type": "stream",
     "text": [
      " 10%|█         | 2/20 [00:12<01:49,  6.09s/it]"
     ]
    },
    {
     "name": "stdout",
     "output_type": "stream",
     "text": [
      "Optimization fails...\n",
      "Iteration limit reached\n",
      "Optimization fails...\n",
      "Iteration limit reached\n",
      "1st initialization (last round) failed...\n",
      "Optimization fails...\n",
      "Iteration limit reached\n",
      "1st initialization (last round) failed...\n"
     ]
    },
    {
     "name": "stderr",
     "output_type": "stream",
     "text": [
      "\r",
      " 15%|█▌        | 3/20 [00:19<01:51,  6.56s/it]"
     ]
    },
    {
     "name": "stdout",
     "output_type": "stream",
     "text": [
      "Optimization fails...\n",
      "Iteration limit reached\n",
      "Optimization fails...\n",
      "Iteration limit reached\n",
      "Optimization fails...\n",
      "Iteration limit reached\n",
      "both initializations failed...\n",
      "Optimization fails...\n",
      "Iteration limit reached\n",
      "2nd initialization (estimate) failed...\n"
     ]
    },
    {
     "name": "stderr",
     "output_type": "stream",
     "text": [
      "\r",
      " 20%|██        | 4/20 [00:30<02:09,  8.12s/it]"
     ]
    },
    {
     "name": "stdout",
     "output_type": "stream",
     "text": [
      "Optimization fails...\n",
      "Iteration limit reached\n",
      "Optimization fails...\n",
      "Iteration limit reached\n",
      "1st initialization (last round) failed...\n",
      "Optimization fails...\n",
      "Iteration limit reached\n",
      "2nd initialization (estimate) failed...\n"
     ]
    },
    {
     "name": "stderr",
     "output_type": "stream",
     "text": [
      "\r",
      " 25%|██▌       | 5/20 [00:39<02:09,  8.65s/it]"
     ]
    },
    {
     "name": "stdout",
     "output_type": "stream",
     "text": [
      "Optimization fails...\n",
      "Iteration limit reached\n",
      "Optimization fails...\n",
      "Iteration limit reached\n",
      "1st initialization (last round) failed...\n"
     ]
    },
    {
     "name": "stderr",
     "output_type": "stream",
     "text": [
      "\r",
      " 30%|███       | 6/20 [00:47<01:56,  8.32s/it]"
     ]
    },
    {
     "name": "stdout",
     "output_type": "stream",
     "text": [
      "Optimization fails...\n",
      "Iteration limit reached\n",
      "Optimization fails...\n",
      "Iteration limit reached\n",
      "2nd initialization (estimate) failed...\n"
     ]
    },
    {
     "name": "stderr",
     "output_type": "stream",
     "text": [
      "\r",
      " 35%|███▌      | 7/20 [00:55<01:46,  8.22s/it]"
     ]
    },
    {
     "name": "stdout",
     "output_type": "stream",
     "text": [
      "Optimization fails...\n",
      "Iteration limit reached\n"
     ]
    },
    {
     "name": "stderr",
     "output_type": "stream",
     "text": [
      "\r",
      " 40%|████      | 8/20 [01:04<01:42,  8.56s/it]"
     ]
    },
    {
     "name": "stdout",
     "output_type": "stream",
     "text": [
      "Optimization fails...\n",
      "Iteration limit reached\n",
      "1st initialization (last round) failed...\n"
     ]
    },
    {
     "name": "stderr",
     "output_type": "stream",
     "text": [
      "\r",
      " 45%|████▌     | 9/20 [01:11<01:27,  7.93s/it]"
     ]
    },
    {
     "name": "stdout",
     "output_type": "stream",
     "text": [
      "Optimization fails...\n",
      "Iteration limit reached\n",
      "1st initialization (last round) failed...\n",
      "Optimization fails...\n",
      "Iteration limit reached\n",
      "2nd initialization (estimate) failed...\n"
     ]
    },
    {
     "name": "stderr",
     "output_type": "stream",
     "text": [
      "\r",
      " 50%|█████     | 10/20 [01:20<01:24,  8.41s/it]"
     ]
    },
    {
     "name": "stdout",
     "output_type": "stream",
     "text": [
      "Optimization fails...\n",
      "Iteration limit reached\n",
      "Optimization fails...\n",
      "Iteration limit reached\n",
      "1st initialization (last round) failed...\n",
      "Optimization fails...\n",
      "Inequality constraints incompatible\n",
      "1st initialization (last round) failed...\n"
     ]
    },
    {
     "name": "stderr",
     "output_type": "stream",
     "text": [
      " 60%|██████    | 12/20 [01:38<01:07,  8.43s/it]"
     ]
    },
    {
     "name": "stdout",
     "output_type": "stream",
     "text": [
      "Optimization fails...\n",
      "Iteration limit reached\n",
      "Optimization fails...\n",
      "Iteration limit reached\n",
      "2nd initialization (estimate) failed...\n"
     ]
    },
    {
     "name": "stderr",
     "output_type": "stream",
     "text": [
      "\r",
      " 65%|██████▌   | 13/20 [01:48<01:02,  8.88s/it]"
     ]
    },
    {
     "name": "stdout",
     "output_type": "stream",
     "text": [
      "Optimization fails...\n",
      "Iteration limit reached\n",
      "1st initialization (last round) failed...\n"
     ]
    },
    {
     "name": "stderr",
     "output_type": "stream",
     "text": [
      "\r",
      " 70%|███████   | 14/20 [01:59<00:56,  9.42s/it]"
     ]
    },
    {
     "name": "stdout",
     "output_type": "stream",
     "text": [
      "Optimization fails...\n",
      "Iteration limit reached\n"
     ]
    },
    {
     "name": "stderr",
     "output_type": "stream",
     "text": [
      "\r",
      " 75%|███████▌  | 15/20 [02:06<00:44,  8.85s/it]"
     ]
    },
    {
     "name": "stdout",
     "output_type": "stream",
     "text": [
      "Optimization fails...\n",
      "Iteration limit reached\n",
      "Optimization fails...\n",
      "Iteration limit reached\n",
      "1st initialization (last round) failed...\n",
      "Optimization fails...\n",
      "Iteration limit reached\n",
      "1st initialization (last round) failed...\n"
     ]
    },
    {
     "name": "stderr",
     "output_type": "stream",
     "text": [
      "\r",
      " 80%|████████  | 16/20 [02:15<00:35,  8.91s/it]"
     ]
    },
    {
     "name": "stdout",
     "output_type": "stream",
     "text": [
      "Optimization fails...\n",
      "Iteration limit reached\n",
      "Optimization fails...\n",
      "Iteration limit reached\n",
      "2nd initialization (estimate) failed...\n"
     ]
    },
    {
     "name": "stderr",
     "output_type": "stream",
     "text": [
      "\r",
      " 85%|████████▌ | 17/20 [02:24<00:26,  8.90s/it]"
     ]
    },
    {
     "name": "stdout",
     "output_type": "stream",
     "text": [
      "Optimization fails...\n",
      "Iteration limit reached\n"
     ]
    },
    {
     "name": "stderr",
     "output_type": "stream",
     "text": [
      "\r",
      " 90%|█████████ | 18/20 [02:33<00:18,  9.08s/it]"
     ]
    },
    {
     "name": "stdout",
     "output_type": "stream",
     "text": [
      "Optimization fails...\n",
      "Iteration limit reached\n",
      "2nd initialization (estimate) failed...\n",
      "Optimization fails...\n",
      "Iteration limit reached\n",
      "2nd initialization (estimate) failed...\n"
     ]
    },
    {
     "name": "stderr",
     "output_type": "stream",
     "text": [
      "\r",
      " 95%|█████████▌| 19/20 [02:44<00:09,  9.58s/it]"
     ]
    },
    {
     "name": "stdout",
     "output_type": "stream",
     "text": [
      "Optimization fails...\n",
      "Iteration limit reached\n",
      "Optimization fails...\n",
      "Iteration limit reached\n",
      "1st initialization (last round) failed...\n",
      "Optimization fails...\n",
      "Iteration limit reached\n",
      "1st initialization (last round) failed...\n",
      "Optimization fails...\n",
      "Iteration limit reached\n",
      "1st initialization (last round) failed...\n"
     ]
    },
    {
     "name": "stderr",
     "output_type": "stream",
     "text": [
      "100%|██████████| 20/20 [02:52<00:00,  8.62s/it]\n",
      " 30%|███       | 6/20 [00:07<00:18,  1.33s/it]"
     ]
    },
    {
     "name": "stdout",
     "output_type": "stream",
     "text": [
      "Optimization fails...\n",
      "Iteration limit reached\n",
      "2nd initialization (estimate) failed...\n"
     ]
    },
    {
     "name": "stderr",
     "output_type": "stream",
     "text": [
      " 65%|██████▌   | 13/20 [00:17<00:10,  1.44s/it]"
     ]
    },
    {
     "name": "stdout",
     "output_type": "stream",
     "text": [
      "Optimization fails...\n",
      "Singular matrix E in LSQ subproblem\n"
     ]
    },
    {
     "name": "stderr",
     "output_type": "stream",
     "text": [
      "100%|██████████| 20/20 [00:28<00:00,  1.40s/it]\n",
      "100%|██████████| 20/20 [00:44<00:00,  2.25s/it]\n",
      "100%|██████████| 20/20 [00:59<00:00,  2.97s/it]\n"
     ]
    },
    {
     "name": "stdout",
     "output_type": "stream",
     "text": [
      "Graph 5\n"
     ]
    },
    {
     "data": {
      "text/plain": [
       "<Figure size 432x288 with 0 Axes>"
      ]
     },
     "metadata": {},
     "output_type": "display_data"
    },
    {
     "data": {
      "image/png": "[encoded data removed]",
      "text/plain": [
       "<Figure size 576x216 with 2 Axes>"
      ]
     },
     "metadata": {
      "needs_background": "light"
     },
     "output_type": "display_data"
    },
    {
     "name": "stderr",
     "output_type": "stream",
     "text": [
      "100%|██████████| 20/20 [00:01<00:00, 14.17it/s]\n",
      "100%|██████████| 20/20 [00:21<00:00,  1.08s/it]\n",
      "  0%|          | 0/20 [00:00<?, ?it/s]"
     ]
    },
    {
     "name": "stdout",
     "output_type": "stream",
     "text": [
      "Optimization fails...\n",
      "Iteration limit reached\n"
     ]
    },
    {
     "name": "stderr",
     "output_type": "stream",
     "text": [
      "\r",
      "  5%|▌         | 1/20 [00:05<01:38,  5.18s/it]"
     ]
    },
    {
     "name": "stdout",
     "output_type": "stream",
     "text": [
      "Optimization fails...\n",
      "Iteration limit reached\n"
     ]
    },
    {
     "name": "stderr",
     "output_type": "stream",
     "text": [
      "\r",
      " 10%|█         | 2/20 [00:13<02:04,  6.94s/it]"
     ]
    },
    {
     "name": "stdout",
     "output_type": "stream",
     "text": [
      "Optimization fails...\n",
      "Iteration limit reached\n",
      "Optimization fails...\n",
      "Iteration limit reached\n",
      "2nd initialization (estimate) failed...\n"
     ]
    },
    {
     "name": "stderr",
     "output_type": "stream",
     "text": [
      "\r",
      " 15%|█▌        | 3/20 [00:23<02:25,  8.54s/it]"
     ]
    },
    {
     "name": "stdout",
     "output_type": "stream",
     "text": [
      "Optimization fails...\n",
      "Iteration limit reached\n",
      "Optimization fails...\n",
      "Iteration limit reached\n",
      "1st initialization (last round) failed...\n"
     ]
    },
    {
     "name": "stderr",
     "output_type": "stream",
     "text": [
      "\r",
      " 20%|██        | 4/20 [00:33<02:26,  9.14s/it]"
     ]
    },
    {
     "name": "stdout",
     "output_type": "stream",
     "text": [
      "Optimization fails...\n",
      "Iteration limit reached\n",
      "Optimization fails...\n",
      "Iteration limit reached\n",
      "1st initialization (last round) failed...\n",
      "Optimization fails...\n",
      "Iteration limit reached\n",
      "2nd initialization (estimate) failed...\n"
     ]
    },
    {
     "name": "stderr",
     "output_type": "stream",
     "text": [
      "\r",
      " 25%|██▌       | 5/20 [00:44<02:23,  9.55s/it]"
     ]
    },
    {
     "name": "stdout",
     "output_type": "stream",
     "text": [
      "Optimization fails...\n",
      "Iteration limit reached\n",
      "Optimization fails...\n",
      "Iteration limit reached\n",
      "1st initialization (last round) failed...\n"
     ]
    },
    {
     "name": "stderr",
     "output_type": "stream",
     "text": [
      "\r",
      " 30%|███       | 6/20 [00:56<02:29, 10.65s/it]"
     ]
    },
    {
     "name": "stdout",
     "output_type": "stream",
     "text": [
      "Optimization fails...\n",
      "Singular matrix E in LSQ subproblem\n",
      "Optimization fails...\n",
      "Iteration limit reached\n",
      "1st initialization (last round) failed...\n"
     ]
    },
    {
     "name": "stderr",
     "output_type": "stream",
     "text": [
      "\r",
      " 35%|███▌      | 7/20 [01:01<01:53,  8.75s/it]"
     ]
    },
    {
     "name": "stdout",
     "output_type": "stream",
     "text": [
      "Optimization fails...\n",
      "Iteration limit reached\n"
     ]
    },
    {
     "name": "stderr",
     "output_type": "stream",
     "text": [
      "\r",
      " 40%|████      | 8/20 [01:07<01:34,  7.88s/it]"
     ]
    },
    {
     "name": "stdout",
     "output_type": "stream",
     "text": [
      "Optimization fails...\n",
      "Iteration limit reached\n",
      "Optimization fails...\n",
      "Iteration limit reached\n",
      "1st initialization (last round) failed...\n"
     ]
    },
    {
     "name": "stderr",
     "output_type": "stream",
     "text": [
      "\r",
      " 45%|████▌     | 9/20 [01:13<01:20,  7.28s/it]"
     ]
    },
    {
     "name": "stdout",
     "output_type": "stream",
     "text": [
      "Optimization fails...\n",
      "Iteration limit reached\n",
      "Optimization fails...\n",
      "Iteration limit reached\n",
      "2nd initialization (estimate) failed...\n"
     ]
    },
    {
     "name": "stderr",
     "output_type": "stream",
     "text": [
      " 55%|█████▌    | 11/20 [01:32<01:16,  8.53s/it]"
     ]
    },
    {
     "name": "stdout",
     "output_type": "stream",
     "text": [
      "Optimization fails...\n",
      "Iteration limit reached\n"
     ]
    },
    {
     "name": "stderr",
     "output_type": "stream",
     "text": [
      "\r",
      " 60%|██████    | 12/20 [01:40<01:05,  8.25s/it]"
     ]
    },
    {
     "name": "stdout",
     "output_type": "stream",
     "text": [
      "Optimization fails...\n",
      "Iteration limit reached\n"
     ]
    },
    {
     "name": "stderr",
     "output_type": "stream",
     "text": [
      " 70%|███████   | 14/20 [01:53<00:43,  7.24s/it]"
     ]
    },
    {
     "name": "stdout",
     "output_type": "stream",
     "text": [
      "Optimization fails...\n",
      "Iteration limit reached\n",
      "Optimization fails...\n",
      "Iteration limit reached\n",
      "2nd initialization (estimate) failed...\n"
     ]
    },
    {
     "name": "stderr",
     "output_type": "stream",
     "text": [
      "\r",
      " 75%|███████▌  | 15/20 [02:05<00:43,  8.66s/it]"
     ]
    },
    {
     "name": "stdout",
     "output_type": "stream",
     "text": [
      "Optimization fails...\n",
      "Iteration limit reached\n",
      "Optimization fails...\n",
      "Iteration limit reached\n",
      "1st initialization (last round) failed...\n"
     ]
    },
    {
     "name": "stderr",
     "output_type": "stream",
     "text": [
      " 85%|████████▌ | 17/20 [02:22<00:26,  8.68s/it]"
     ]
    },
    {
     "name": "stdout",
     "output_type": "stream",
     "text": [
      "Optimization fails...\n",
      "Iteration limit reached\n",
      "2nd initialization (estimate) failed...\n"
     ]
    },
    {
     "name": "stderr",
     "output_type": "stream",
     "text": [
      "\r",
      " 90%|█████████ | 18/20 [02:35<00:19,  9.95s/it]"
     ]
    },
    {
     "name": "stdout",
     "output_type": "stream",
     "text": [
      "Optimization fails...\n",
      "Iteration limit reached\n",
      "Optimization fails...\n",
      "Iteration limit reached\n",
      "1st initialization (last round) failed...\n"
     ]
    },
    {
     "name": "stderr",
     "output_type": "stream",
     "text": [
      "\r",
      " 95%|█████████▌| 19/20 [02:47<00:10, 10.53s/it]"
     ]
    },
    {
     "name": "stdout",
     "output_type": "stream",
     "text": [
      "Optimization fails...\n",
      "Iteration limit reached\n"
     ]
    },
    {
     "name": "stderr",
     "output_type": "stream",
     "text": [
      "100%|██████████| 20/20 [02:54<00:00,  8.74s/it]\n",
      "  0%|          | 0/20 [00:00<?, ?it/s]"
     ]
    },
    {
     "name": "stdout",
     "output_type": "stream",
     "text": [
      "Optimization fails...\n",
      "Iteration limit reached\n",
      "2nd initialization (estimate) failed...\n"
     ]
    },
    {
     "name": "stderr",
     "output_type": "stream",
     "text": [
      " 50%|█████     | 10/20 [00:13<00:13,  1.34s/it]"
     ]
    },
    {
     "name": "stdout",
     "output_type": "stream",
     "text": [
      "Optimization fails...\n",
      "Iteration limit reached\n",
      "1st initialization (last round) failed...\n"
     ]
    },
    {
     "name": "stderr",
     "output_type": "stream",
     "text": [
      " 80%|████████  | 16/20 [00:22<00:05,  1.38s/it]"
     ]
    },
    {
     "name": "stdout",
     "output_type": "stream",
     "text": [
      "Optimization fails...\n",
      "Iteration limit reached\n",
      "1st initialization (last round) failed...\n"
     ]
    },
    {
     "name": "stderr",
     "output_type": "stream",
     "text": [
      "100%|██████████| 20/20 [00:28<00:00,  1.42s/it]\n",
      "100%|██████████| 20/20 [00:43<00:00,  2.17s/it]\n",
      "100%|██████████| 20/20 [00:59<00:00,  2.96s/it]\n"
     ]
    },
    {
     "name": "stdout",
     "output_type": "stream",
     "text": [
      "Graph 6\n"
     ]
    },
    {
     "data": {
      "text/plain": [
       "<Figure size 432x288 with 0 Axes>"
      ]
     },
     "metadata": {},
     "output_type": "display_data"
    },
    {
     "data": {
      "image/png": "[encoded data removed]",
      "text/plain": [
       "<Figure size 576x216 with 2 Axes>"
      ]
     },
     "metadata": {
      "needs_background": "light"
     },
     "output_type": "display_data"
    },
    {
     "name": "stderr",
     "output_type": "stream",
     "text": [
      "100%|██████████| 20/20 [00:01<00:00, 14.28it/s]\n",
      "100%|██████████| 20/20 [00:22<00:00,  1.12s/it]\n",
      "  5%|▌         | 1/20 [00:11<03:44, 11.83s/it]"
     ]
    },
    {
     "name": "stdout",
     "output_type": "stream",
     "text": [
      "Optimization fails...\n",
      "Iteration limit reached\n",
      "1st initialization (last round) failed...\n"
     ]
    },
    {
     "name": "stderr",
     "output_type": "stream",
     "text": [
      "\r",
      " 10%|█         | 2/20 [00:19<02:52,  9.61s/it]"
     ]
    },
    {
     "name": "stdout",
     "output_type": "stream",
     "text": [
      "Optimization fails...\n",
      "Iteration limit reached\n",
      "2nd initialization (estimate) failed...\n"
     ]
    },
    {
     "name": "stderr",
     "output_type": "stream",
     "text": [
      "\r",
      " 15%|█▌        | 3/20 [00:25<02:12,  7.82s/it]"
     ]
    },
    {
     "name": "stdout",
     "output_type": "stream",
     "text": [
      "Optimization fails...\n",
      "Iteration limit reached\n"
     ]
    },
    {
     "name": "stderr",
     "output_type": "stream",
     "text": [
      "\r",
      " 20%|██        | 4/20 [00:35<02:15,  8.48s/it]"
     ]
    },
    {
     "name": "stdout",
     "output_type": "stream",
     "text": [
      "Optimization fails...\n",
      "Iteration limit reached\n",
      "Optimization fails...\n",
      "Iteration limit reached\n",
      "1st initialization (last round) failed...\n"
     ]
    },
    {
     "name": "stderr",
     "output_type": "stream",
     "text": [
      "\r",
      " 25%|██▌       | 5/20 [00:43<02:09,  8.64s/it]"
     ]
    },
    {
     "name": "stdout",
     "output_type": "stream",
     "text": [
      "Optimization fails...\n",
      "Iteration limit reached\n",
      "1st initialization (last round) failed...\n"
     ]
    },
    {
     "name": "stderr",
     "output_type": "stream",
     "text": [
      "\r",
      " 30%|███       | 6/20 [00:51<01:57,  8.38s/it]"
     ]
    },
    {
     "name": "stdout",
     "output_type": "stream",
     "text": [
      "Optimization fails...\n",
      "Iteration limit reached\n"
     ]
    },
    {
     "name": "stderr",
     "output_type": "stream",
     "text": [
      "\r",
      " 35%|███▌      | 7/20 [00:55<01:30,  6.94s/it]"
     ]
    },
    {
     "name": "stdout",
     "output_type": "stream",
     "text": [
      "Optimization fails...\n",
      "Iteration limit reached\n"
     ]
    },
    {
     "name": "stderr",
     "output_type": "stream",
     "text": [
      "\r",
      " 40%|████      | 8/20 [01:01<01:18,  6.57s/it]"
     ]
    },
    {
     "name": "stdout",
     "output_type": "stream",
     "text": [
      "Optimization fails...\n",
      "Iteration limit reached\n",
      "2nd initialization (estimate) failed...\n"
     ]
    },
    {
     "name": "stderr",
     "output_type": "stream",
     "text": [
      "\r",
      " 45%|████▌     | 9/20 [01:10<01:19,  7.24s/it]"
     ]
    },
    {
     "name": "stdout",
     "output_type": "stream",
     "text": [
      "Optimization fails...\n",
      "Iteration limit reached\n",
      "Optimization fails...\n",
      "Inequality constraints incompatible\n",
      "2nd initialization (estimate) failed...\n"
     ]
    },
    {
     "name": "stderr",
     "output_type": "stream",
     "text": [
      "\r",
      " 50%|█████     | 10/20 [01:16<01:08,  6.82s/it]"
     ]
    },
    {
     "name": "stdout",
     "output_type": "stream",
     "text": [
      "Optimization fails...\n",
      "Iteration limit reached\n",
      "Optimization fails...\n",
      "Iteration limit reached\n",
      "1st initialization (last round) failed...\n",
      "Optimization fails...\n",
      "Iteration limit reached\n",
      "2nd initialization (estimate) failed...\n",
      "Optimization fails...\n",
      "Iteration limit reached\n",
      "2nd initialization (estimate) failed...\n"
     ]
    },
    {
     "name": "stderr",
     "output_type": "stream",
     "text": [
      "\r",
      " 55%|█████▌    | 11/20 [01:26<01:10,  7.85s/it]"
     ]
    },
    {
     "name": "stdout",
     "output_type": "stream",
     "text": [
      "Optimization fails...\n",
      "Iteration limit reached\n",
      "Optimization fails...\n",
      "Iteration limit reached\n",
      "1st initialization (last round) failed...\n"
     ]
    },
    {
     "name": "stderr",
     "output_type": "stream",
     "text": [
      "\r",
      " 60%|██████    | 12/20 [01:34<01:02,  7.78s/it]"
     ]
    },
    {
     "name": "stdout",
     "output_type": "stream",
     "text": [
      "Optimization fails...\n",
      "Iteration limit reached\n"
     ]
    },
    {
     "name": "stderr",
     "output_type": "stream",
     "text": [
      " 70%|███████   | 14/20 [01:46<00:43,  7.20s/it]"
     ]
    },
    {
     "name": "stdout",
     "output_type": "stream",
     "text": [
      "Optimization fails...\n",
      "Iteration limit reached\n",
      "Optimization fails...\n",
      "Iteration limit reached\n",
      "1st initialization (last round) failed...\n"
     ]
    },
    {
     "name": "stderr",
     "output_type": "stream",
     "text": [
      " 80%|████████  | 16/20 [02:06<00:32,  8.11s/it]"
     ]
    },
    {
     "name": "stdout",
     "output_type": "stream",
     "text": [
      "Optimization fails...\n",
      "Iteration limit reached\n"
     ]
    },
    {
     "name": "stderr",
     "output_type": "stream",
     "text": [
      "\r",
      " 85%|████████▌ | 17/20 [02:14<00:24,  8.24s/it]"
     ]
    },
    {
     "name": "stdout",
     "output_type": "stream",
     "text": [
      "Optimization fails...\n",
      "Iteration limit reached\n",
      "1st initialization (last round) failed...\n"
     ]
    },
    {
     "name": "stderr",
     "output_type": "stream",
     "text": [
      " 95%|█████████▌| 19/20 [02:30<00:08,  8.12s/it]"
     ]
    },
    {
     "name": "stdout",
     "output_type": "stream",
     "text": [
      "Optimization fails...\n",
      "Iteration limit reached\n",
      "Optimization fails...\n",
      "Iteration limit reached\n",
      "2nd initialization (estimate) failed...\n"
     ]
    },
    {
     "name": "stderr",
     "output_type": "stream",
     "text": [
      "100%|██████████| 20/20 [02:38<00:00,  7.94s/it]\n",
      " 15%|█▌        | 3/20 [00:04<00:21,  1.28s/it]"
     ]
    },
    {
     "name": "stdout",
     "output_type": "stream",
     "text": [
      "Optimization fails...\n",
      "Iteration limit reached\n"
     ]
    },
    {
     "name": "stderr",
     "output_type": "stream",
     "text": [
      "100%|██████████| 20/20 [00:28<00:00,  1.45s/it]\n",
      "100%|██████████| 20/20 [00:44<00:00,  2.25s/it]\n",
      "100%|██████████| 20/20 [01:02<00:00,  3.15s/it]\n"
     ]
    },
    {
     "name": "stdout",
     "output_type": "stream",
     "text": [
      "Graph 7\n"
     ]
    },
    {
     "data": {
      "text/plain": [
       "<Figure size 432x288 with 0 Axes>"
      ]
     },
     "metadata": {},
     "output_type": "display_data"
    },
    {
     "data": {
      "image/png": "[encoded data removed]",
      "text/plain": [
       "<Figure size 576x216 with 2 Axes>"
      ]
     },
     "metadata": {
      "needs_background": "light"
     },
     "output_type": "display_data"
    },
    {
     "name": "stderr",
     "output_type": "stream",
     "text": [
      "100%|██████████| 20/20 [00:01<00:00, 13.98it/s]\n",
      "100%|██████████| 20/20 [00:21<00:00,  1.07s/it]\n",
      "  0%|          | 0/20 [00:00<?, ?it/s]"
     ]
    },
    {
     "name": "stdout",
     "output_type": "stream",
     "text": [
      "Optimization fails...\n",
      "Iteration limit reached\n"
     ]
    },
    {
     "name": "stderr",
     "output_type": "stream",
     "text": [
      " 10%|█         | 2/20 [00:16<02:29,  8.31s/it]"
     ]
    },
    {
     "name": "stdout",
     "output_type": "stream",
     "text": [
      "Optimization fails...\n",
      "Iteration limit reached\n"
     ]
    },
    {
     "name": "stderr",
     "output_type": "stream",
     "text": [
      " 20%|██        | 4/20 [00:31<02:11,  8.19s/it]"
     ]
    },
    {
     "name": "stdout",
     "output_type": "stream",
     "text": [
      "Optimization fails...\n",
      "Iteration limit reached\n"
     ]
    },
    {
     "name": "stderr",
     "output_type": "stream",
     "text": [
      "\r",
      " 25%|██▌       | 5/20 [00:38<01:55,  7.73s/it]"
     ]
    },
    {
     "name": "stdout",
     "output_type": "stream",
     "text": [
      "Optimization fails...\n",
      "Singular matrix E in LSQ subproblem\n",
      "Optimization fails...\n",
      "Iteration limit reached\n",
      "1st initialization (last round) failed...\n"
     ]
    },
    {
     "name": "stderr",
     "output_type": "stream",
     "text": [
      "\r",
      " 30%|███       | 6/20 [00:47<01:51,  7.98s/it]"
     ]
    },
    {
     "name": "stdout",
     "output_type": "stream",
     "text": [
      "Optimization fails...\n",
      "Iteration limit reached\n"
     ]
    },
    {
     "name": "stderr",
     "output_type": "stream",
     "text": [
      " 40%|████      | 8/20 [01:03<01:37,  8.09s/it]"
     ]
    },
    {
     "name": "stdout",
     "output_type": "stream",
     "text": [
      "Optimization fails...\n",
      "Iteration limit reached\n",
      "1st initialization (last round) failed...\n"
     ]
    },
    {
     "name": "stderr",
     "output_type": "stream",
     "text": [
      "\r",
      " 45%|████▌     | 9/20 [01:08<01:19,  7.19s/it]"
     ]
    },
    {
     "name": "stdout",
     "output_type": "stream",
     "text": [
      "Optimization fails...\n",
      "Iteration limit reached\n"
     ]
    },
    {
     "name": "stderr",
     "output_type": "stream",
     "text": [
      "\r",
      " 50%|█████     | 10/20 [01:13<01:04,  6.49s/it]"
     ]
    },
    {
     "name": "stdout",
     "output_type": "stream",
     "text": [
      "Optimization fails...\n",
      "Iteration limit reached\n"
     ]
    },
    {
     "name": "stderr",
     "output_type": "stream",
     "text": [
      "\r",
      " 55%|█████▌    | 11/20 [01:22<01:03,  7.03s/it]"
     ]
    },
    {
     "name": "stdout",
     "output_type": "stream",
     "text": [
      "Optimization fails...\n",
      "Iteration limit reached\n",
      "Optimization fails...\n",
      "Iteration limit reached\n",
      "1st initialization (last round) failed...\n"
     ]
    },
    {
     "name": "stderr",
     "output_type": "stream",
     "text": [
      "\r",
      " 60%|██████    | 12/20 [01:33<01:05,  8.23s/it]"
     ]
    },
    {
     "name": "stdout",
     "output_type": "stream",
     "text": [
      "Optimization fails...\n",
      "Iteration limit reached\n",
      "2nd initialization (estimate) failed...\n"
     ]
    },
    {
     "name": "stderr",
     "output_type": "stream",
     "text": [
      "\r",
      " 65%|██████▌   | 13/20 [01:39<00:53,  7.64s/it]"
     ]
    },
    {
     "name": "stdout",
     "output_type": "stream",
     "text": [
      "Optimization fails...\n",
      "Iteration limit reached\n"
     ]
    },
    {
     "name": "stderr",
     "output_type": "stream",
     "text": [
      "\r",
      " 70%|███████   | 14/20 [01:45<00:43,  7.23s/it]"
     ]
    },
    {
     "name": "stdout",
     "output_type": "stream",
     "text": [
      "Optimization fails...\n",
      "Iteration limit reached\n",
      "1st initialization (last round) failed...\n"
     ]
    },
    {
     "name": "stderr",
     "output_type": "stream",
     "text": [
      "\r",
      " 75%|███████▌  | 15/20 [01:53<00:36,  7.33s/it]"
     ]
    },
    {
     "name": "stdout",
     "output_type": "stream",
     "text": [
      "Optimization fails...\n",
      "Iteration limit reached\n",
      "Optimization fails...\n",
      "Iteration limit reached\n",
      "1st initialization (last round) failed...\n"
     ]
    },
    {
     "name": "stderr",
     "output_type": "stream",
     "text": [
      "\r",
      " 80%|████████  | 16/20 [01:58<00:27,  6.83s/it]"
     ]
    },
    {
     "name": "stdout",
     "output_type": "stream",
     "text": [
      "Optimization fails...\n",
      "Iteration limit reached\n",
      "Optimization fails...\n",
      "Iteration limit reached\n",
      "2nd initialization (estimate) failed...\n"
     ]
    },
    {
     "name": "stderr",
     "output_type": "stream",
     "text": [
      "\r",
      " 85%|████████▌ | 17/20 [02:06<00:21,  7.05s/it]"
     ]
    },
    {
     "name": "stdout",
     "output_type": "stream",
     "text": [
      "Optimization fails...\n",
      "Iteration limit reached\n"
     ]
    },
    {
     "name": "stderr",
     "output_type": "stream",
     "text": [
      "\r",
      " 90%|█████████ | 18/20 [02:14<00:14,  7.48s/it]"
     ]
    },
    {
     "name": "stdout",
     "output_type": "stream",
     "text": [
      "Optimization fails...\n",
      "Iteration limit reached\n"
     ]
    },
    {
     "name": "stderr",
     "output_type": "stream",
     "text": [
      "\r",
      " 95%|█████████▌| 19/20 [02:26<00:08,  8.56s/it]"
     ]
    },
    {
     "name": "stdout",
     "output_type": "stream",
     "text": [
      "Optimization fails...\n",
      "Iteration limit reached\n",
      "2nd initialization (estimate) failed...\n"
     ]
    },
    {
     "name": "stderr",
     "output_type": "stream",
     "text": [
      "100%|██████████| 20/20 [02:37<00:00,  7.89s/it]\n",
      " 30%|███       | 6/20 [00:08<00:19,  1.40s/it]"
     ]
    },
    {
     "name": "stdout",
     "output_type": "stream",
     "text": [
      "Optimization fails...\n",
      "Iteration limit reached\n",
      "2nd initialization (estimate) failed...\n"
     ]
    },
    {
     "name": "stderr",
     "output_type": "stream",
     "text": [
      "100%|██████████| 20/20 [00:27<00:00,  1.39s/it]\n",
      "100%|██████████| 20/20 [00:44<00:00,  2.23s/it]\n",
      "100%|██████████| 20/20 [00:58<00:00,  2.95s/it]\n"
     ]
    },
    {
     "name": "stdout",
     "output_type": "stream",
     "text": [
      "Graph 8\n"
     ]
    },
    {
     "data": {
      "text/plain": [
       "<Figure size 432x288 with 0 Axes>"
      ]
     },
     "metadata": {},
     "output_type": "display_data"
    },
    {
     "data": {
      "image/png": "[encoded data removed]",
      "text/plain": [
       "<Figure size 576x216 with 2 Axes>"
      ]
     },
     "metadata": {
      "needs_background": "light"
     },
     "output_type": "display_data"
    },
    {
     "name": "stderr",
     "output_type": "stream",
     "text": [
      "100%|██████████| 20/20 [00:01<00:00, 14.21it/s]\n",
      "100%|██████████| 20/20 [00:22<00:00,  1.11s/it]\n",
      "  0%|          | 0/20 [00:00<?, ?it/s]"
     ]
    },
    {
     "name": "stdout",
     "output_type": "stream",
     "text": [
      "Optimization fails...\n",
      "Iteration limit reached\n",
      "Optimization fails...\n",
      "Iteration limit reached\n",
      "2nd initialization (estimate) failed...\n",
      "Optimization fails...\n",
      "Iteration limit reached\n",
      "1st initialization (last round) failed...\n"
     ]
    },
    {
     "name": "stderr",
     "output_type": "stream",
     "text": [
      " 10%|█         | 2/20 [00:13<02:02,  6.83s/it]"
     ]
    },
    {
     "name": "stdout",
     "output_type": "stream",
     "text": [
      "Optimization fails...\n",
      "Iteration limit reached\n",
      "Optimization fails...\n",
      "Iteration limit reached\n",
      "1st initialization (last round) failed...\n"
     ]
    },
    {
     "name": "stderr",
     "output_type": "stream",
     "text": [
      " 30%|███       | 6/20 [00:41<01:36,  6.88s/it]"
     ]
    },
    {
     "name": "stdout",
     "output_type": "stream",
     "text": [
      "Optimization fails...\n",
      "Iteration limit reached\n",
      "Optimization fails...\n",
      "Iteration limit reached\n",
      "1st initialization (last round) failed...\n"
     ]
    },
    {
     "name": "stderr",
     "output_type": "stream",
     "text": [
      "\r",
      " 35%|███▌      | 7/20 [00:48<01:29,  6.85s/it]"
     ]
    },
    {
     "name": "stdout",
     "output_type": "stream",
     "text": [
      "Optimization fails...\n",
      "Iteration limit reached\n",
      "Optimization fails...\n",
      "Iteration limit reached\n",
      "1st initialization (last round) failed...\n"
     ]
    },
    {
     "name": "stderr",
     "output_type": "stream",
     "text": [
      "\r",
      " 40%|████      | 8/20 [00:55<01:25,  7.09s/it]"
     ]
    },
    {
     "name": "stdout",
     "output_type": "stream",
     "text": [
      "Optimization fails...\n",
      "Iteration limit reached\n"
     ]
    },
    {
     "name": "stderr",
     "output_type": "stream",
     "text": [
      "\r",
      " 45%|████▌     | 9/20 [01:02<01:18,  7.11s/it]"
     ]
    },
    {
     "name": "stdout",
     "output_type": "stream",
     "text": [
      "Optimization fails...\n",
      "Singular matrix E in LSQ subproblem\n",
      "Optimization fails...\n",
      "Iteration limit reached\n",
      "2nd initialization (estimate) failed...\n"
     ]
    },
    {
     "name": "stderr",
     "output_type": "stream",
     "text": [
      "\r",
      " 50%|█████     | 10/20 [01:12<01:19,  7.95s/it]"
     ]
    },
    {
     "name": "stdout",
     "output_type": "stream",
     "text": [
      "Optimization fails...\n",
      "Iteration limit reached\n"
     ]
    },
    {
     "name": "stderr",
     "output_type": "stream",
     "text": [
      "\r",
      " 55%|█████▌    | 11/20 [01:18<01:06,  7.41s/it]"
     ]
    },
    {
     "name": "stdout",
     "output_type": "stream",
     "text": [
      "Optimization fails...\n",
      "Iteration limit reached\n",
      "1st initialization (last round) failed...\n"
     ]
    },
    {
     "name": "stderr",
     "output_type": "stream",
     "text": [
      "\r",
      " 60%|██████    | 12/20 [01:25<00:57,  7.16s/it]"
     ]
    },
    {
     "name": "stdout",
     "output_type": "stream",
     "text": [
      "Optimization fails...\n",
      "Iteration limit reached\n",
      "1st initialization (last round) failed...\n"
     ]
    },
    {
     "name": "stderr",
     "output_type": "stream",
     "text": [
      " 75%|███████▌  | 15/20 [01:46<00:32,  6.60s/it]"
     ]
    },
    {
     "name": "stdout",
     "output_type": "stream",
     "text": [
      "Optimization fails...\n",
      "Iteration limit reached\n",
      "Optimization fails...\n",
      "Iteration limit reached\n",
      "1st initialization (last round) failed...\n"
     ]
    },
    {
     "name": "stderr",
     "output_type": "stream",
     "text": [
      "\r",
      " 80%|████████  | 16/20 [01:56<00:31,  7.78s/it]"
     ]
    },
    {
     "name": "stdout",
     "output_type": "stream",
     "text": [
      "Optimization fails...\n",
      "Singular matrix E in LSQ subproblem\n",
      "Optimization fails...\n",
      "Iteration limit reached\n",
      "1st initialization (last round) failed...\n"
     ]
    },
    {
     "name": "stderr",
     "output_type": "stream",
     "text": [
      "\r",
      " 85%|████████▌ | 17/20 [02:05<00:23,  7.99s/it]"
     ]
    },
    {
     "name": "stdout",
     "output_type": "stream",
     "text": [
      "Optimization fails...\n",
      "Iteration limit reached\n",
      "2nd initialization (estimate) failed...\n"
     ]
    },
    {
     "name": "stderr",
     "output_type": "stream",
     "text": [
      "\r",
      " 90%|█████████ | 18/20 [02:15<00:17,  8.52s/it]"
     ]
    },
    {
     "name": "stdout",
     "output_type": "stream",
     "text": [
      "Optimization fails...\n",
      "Singular matrix E in LSQ subproblem\n",
      "Optimization fails...\n",
      "Iteration limit reached\n",
      "2nd initialization (estimate) failed...\n"
     ]
    },
    {
     "name": "stderr",
     "output_type": "stream",
     "text": [
      "\r",
      " 95%|█████████▌| 19/20 [02:22<00:08,  8.09s/it]"
     ]
    },
    {
     "name": "stdout",
     "output_type": "stream",
     "text": [
      "Optimization fails...\n",
      "Iteration limit reached\n",
      "Optimization fails...\n",
      "Iteration limit reached\n",
      "1st initialization (last round) failed...\n"
     ]
    },
    {
     "name": "stderr",
     "output_type": "stream",
     "text": [
      "100%|██████████| 20/20 [02:26<00:00,  7.34s/it]\n",
      " 15%|█▌        | 3/20 [00:04<00:26,  1.59s/it]"
     ]
    },
    {
     "name": "stdout",
     "output_type": "stream",
     "text": [
      "Optimization fails...\n",
      "Iteration limit reached\n",
      "2nd initialization (estimate) failed...\n",
      "Optimization fails...\n",
      "Iteration limit reached\n",
      "2nd initialization (estimate) failed...\n"
     ]
    },
    {
     "name": "stderr",
     "output_type": "stream",
     "text": [
      " 30%|███       | 6/20 [00:08<00:18,  1.35s/it]"
     ]
    },
    {
     "name": "stdout",
     "output_type": "stream",
     "text": [
      "Optimization fails...\n",
      "Singular matrix E in LSQ subproblem\n"
     ]
    },
    {
     "name": "stderr",
     "output_type": "stream",
     "text": [
      "100%|██████████| 20/20 [00:27<00:00,  1.36s/it]\n",
      "100%|██████████| 20/20 [00:45<00:00,  2.28s/it]\n",
      "100%|██████████| 20/20 [00:59<00:00,  2.97s/it]\n"
     ]
    },
    {
     "name": "stdout",
     "output_type": "stream",
     "text": [
      "Graph 9\n"
     ]
    },
    {
     "data": {
      "text/plain": [
       "<Figure size 432x288 with 0 Axes>"
      ]
     },
     "metadata": {},
     "output_type": "display_data"
    },
    {
     "data": {
      "image/png": "[encoded data removed]",
      "text/plain": [
       "<Figure size 576x216 with 2 Axes>"
      ]
     },
     "metadata": {
      "needs_background": "light"
     },
     "output_type": "display_data"
    },
    {
     "name": "stderr",
     "output_type": "stream",
     "text": [
      "100%|██████████| 20/20 [00:01<00:00, 14.23it/s]\n",
      "100%|██████████| 20/20 [00:22<00:00,  1.14s/it]\n",
      "  0%|          | 0/20 [00:00<?, ?it/s]"
     ]
    },
    {
     "name": "stdout",
     "output_type": "stream",
     "text": [
      "Optimization fails...\n",
      "Iteration limit reached\n"
     ]
    },
    {
     "name": "stderr",
     "output_type": "stream",
     "text": [
      "\r",
      "  5%|▌         | 1/20 [00:05<01:44,  5.50s/it]"
     ]
    },
    {
     "name": "stdout",
     "output_type": "stream",
     "text": [
      "Optimization fails...\n",
      "Iteration limit reached\n",
      "2nd initialization (estimate) failed...\n",
      "Optimization fails...\n",
      "Iteration limit reached\n",
      "1st initialization (last round) failed...\n"
     ]
    },
    {
     "name": "stderr",
     "output_type": "stream",
     "text": [
      " 15%|█▌        | 3/20 [00:26<02:34,  9.07s/it]"
     ]
    },
    {
     "name": "stdout",
     "output_type": "stream",
     "text": [
      "Optimization fails...\n",
      "Iteration limit reached\n",
      "Optimization fails...\n",
      "Iteration limit reached\n",
      "1st initialization (last round) failed...\n"
     ]
    },
    {
     "name": "stderr",
     "output_type": "stream",
     "text": [
      "\r",
      " 20%|██        | 4/20 [00:33<02:14,  8.42s/it]"
     ]
    },
    {
     "name": "stdout",
     "output_type": "stream",
     "text": [
      "Optimization fails...\n",
      "Iteration limit reached\n",
      "1st initialization (last round) failed...\n"
     ]
    },
    {
     "name": "stderr",
     "output_type": "stream",
     "text": [
      "\r",
      " 25%|██▌       | 5/20 [00:42<02:06,  8.42s/it]"
     ]
    },
    {
     "name": "stdout",
     "output_type": "stream",
     "text": [
      "Optimization fails...\n",
      "Iteration limit reached\n",
      "Optimization fails...\n",
      "Iteration limit reached\n",
      "2nd initialization (estimate) failed...\n"
     ]
    },
    {
     "name": "stderr",
     "output_type": "stream",
     "text": [
      "\r",
      " 30%|███       | 6/20 [00:50<01:56,  8.35s/it]"
     ]
    },
    {
     "name": "stdout",
     "output_type": "stream",
     "text": [
      "Optimization fails...\n",
      "Iteration limit reached\n",
      "Optimization fails...\n",
      "Iteration limit reached\n",
      "1st initialization (last round) failed...\n"
     ]
    },
    {
     "name": "stderr",
     "output_type": "stream",
     "text": [
      "\r",
      " 35%|███▌      | 7/20 [00:57<01:44,  8.02s/it]"
     ]
    },
    {
     "name": "stdout",
     "output_type": "stream",
     "text": [
      "Optimization fails...\n",
      "Iteration limit reached\n",
      "2nd initialization (estimate) failed...\n"
     ]
    },
    {
     "name": "stderr",
     "output_type": "stream",
     "text": [
      "\r",
      " 40%|████      | 8/20 [01:07<01:41,  8.46s/it]"
     ]
    },
    {
     "name": "stdout",
     "output_type": "stream",
     "text": [
      "Optimization fails...\n",
      "Iteration limit reached\n",
      "1st initialization (last round) failed...\n"
     ]
    },
    {
     "name": "stderr",
     "output_type": "stream",
     "text": [
      "\r",
      " 45%|████▌     | 9/20 [01:15<01:31,  8.36s/it]"
     ]
    },
    {
     "name": "stdout",
     "output_type": "stream",
     "text": [
      "Optimization fails...\n",
      "Iteration limit reached\n",
      "2nd initialization (estimate) failed...\n"
     ]
    },
    {
     "name": "stderr",
     "output_type": "stream",
     "text": [
      " 55%|█████▌    | 11/20 [01:28<01:06,  7.36s/it]"
     ]
    },
    {
     "name": "stdout",
     "output_type": "stream",
     "text": [
      "Optimization fails...\n",
      "Singular matrix E in LSQ subproblem\n",
      "Optimization fails...\n",
      "Iteration limit reached\n",
      "1st initialization (last round) failed...\n"
     ]
    },
    {
     "name": "stderr",
     "output_type": "stream",
     "text": [
      "\r",
      " 60%|██████    | 12/20 [01:35<00:59,  7.39s/it]"
     ]
    },
    {
     "name": "stdout",
     "output_type": "stream",
     "text": [
      "Optimization fails...\n",
      "Iteration limit reached\n",
      "Optimization fails...\n",
      "Iteration limit reached\n",
      "1st initialization (last round) failed...\n"
     ]
    },
    {
     "name": "stderr",
     "output_type": "stream",
     "text": [
      " 70%|███████   | 14/20 [01:49<00:42,  7.13s/it]"
     ]
    },
    {
     "name": "stdout",
     "output_type": "stream",
     "text": [
      "Optimization fails...\n",
      "Singular matrix E in LSQ subproblem\n",
      "Optimization fails...\n",
      "Iteration limit reached\n",
      "2nd initialization (estimate) failed...\n"
     ]
    },
    {
     "name": "stderr",
     "output_type": "stream",
     "text": [
      " 80%|████████  | 16/20 [02:09<00:35,  8.92s/it]"
     ]
    },
    {
     "name": "stdout",
     "output_type": "stream",
     "text": [
      "Optimization fails...\n",
      "Iteration limit reached\n",
      "Optimization fails...\n",
      "Iteration limit reached\n",
      "1st initialization (last round) failed...\n"
     ]
    },
    {
     "name": "stderr",
     "output_type": "stream",
     "text": [
      "\r",
      " 85%|████████▌ | 17/20 [02:22<00:30, 10.05s/it]"
     ]
    },
    {
     "name": "stdout",
     "output_type": "stream",
     "text": [
      "Optimization fails...\n",
      "Iteration limit reached\n"
     ]
    },
    {
     "name": "stderr",
     "output_type": "stream",
     "text": [
      "\r",
      " 90%|█████████ | 18/20 [02:32<00:19,  9.98s/it]"
     ]
    },
    {
     "name": "stdout",
     "output_type": "stream",
     "text": [
      "Optimization fails...\n",
      "Iteration limit reached\n",
      "2nd initialization (estimate) failed...\n"
     ]
    },
    {
     "name": "stderr",
     "output_type": "stream",
     "text": [
      "\r",
      " 95%|█████████▌| 19/20 [02:44<00:10, 10.60s/it]"
     ]
    },
    {
     "name": "stdout",
     "output_type": "stream",
     "text": [
      "Optimization fails...\n",
      "Iteration limit reached\n"
     ]
    },
    {
     "name": "stderr",
     "output_type": "stream",
     "text": [
      "100%|██████████| 20/20 [02:52<00:00,  8.63s/it]\n",
      "  5%|▌         | 1/20 [00:01<00:27,  1.47s/it]"
     ]
    },
    {
     "name": "stdout",
     "output_type": "stream",
     "text": [
      "Optimization fails...\n",
      "Singular matrix E in LSQ subproblem\n"
     ]
    },
    {
     "name": "stderr",
     "output_type": "stream",
     "text": [
      " 20%|██        | 4/20 [00:05<00:21,  1.36s/it]"
     ]
    },
    {
     "name": "stdout",
     "output_type": "stream",
     "text": [
      "Optimization fails...\n",
      "Iteration limit reached\n",
      "2nd initialization (estimate) failed...\n",
      "Optimization fails...\n",
      "Iteration limit reached\n",
      "2nd initialization (estimate) failed...\n"
     ]
    },
    {
     "name": "stderr",
     "output_type": "stream",
     "text": [
      " 30%|███       | 6/20 [00:08<00:21,  1.51s/it]"
     ]
    },
    {
     "name": "stdout",
     "output_type": "stream",
     "text": [
      "Optimization fails...\n",
      "Inequality constraints incompatible\n",
      "1st initialization (last round) failed...\n"
     ]
    },
    {
     "name": "stderr",
     "output_type": "stream",
     "text": [
      "100%|██████████| 20/20 [00:29<00:00,  1.48s/it]\n",
      "100%|██████████| 20/20 [00:45<00:00,  2.26s/it]\n",
      "100%|██████████| 20/20 [01:01<00:00,  3.10s/it]\n"
     ]
    },
    {
     "name": "stdout",
     "output_type": "stream",
     "text": [
      "Graph 10\n"
     ]
    },
    {
     "data": {
      "text/plain": [
       "<Figure size 432x288 with 0 Axes>"
      ]
     },
     "metadata": {},
     "output_type": "display_data"
    },
    {
     "data": {
      "image/png": "[encoded data removed]",
      "text/plain": [
       "<Figure size 576x216 with 2 Axes>"
      ]
     },
     "metadata": {
      "needs_background": "light"
     },
     "output_type": "display_data"
    }
   ],
   "source": [
    "acqs = ['ml2', 'mestvr','svr', 'ivr', 'ivr']\n",
    "comp = [None, None, None, 'sphere', 'iw_approx1+']\n",
    "known_variance = [False, True, True, True, True]\n",
    "name = ['ml2', 'mestvr', 'svr', 'ivr','ivr_iw3']\n",
    "\n",
    "# acqs = ['ml2', 'svr', 'ivr', 'ivr']\n",
    "# comp = [None, None, 'sphere', 'iw_approx1+']\n",
    "# known_variance = [False, True, True, True]\n",
    "# name = ['ml2', 'svr', 'ivr','ivr_iw3']\n",
    "\n",
    "MSEs = []\n",
    "As = []\n",
    "Probs = []\n",
    "for i in range(g):\n",
    "\tproblem = problems[i]\n",
    "\n",
    "\tA = {}\n",
    "\tProb = {}\n",
    "\t\n",
    "\topts.active = False\n",
    "\tA['passive'], Prob['passive'] = run(problem, opts)\n",
    "\n",
    "\topts.active = True\n",
    "\tfor a in range(len(acqs)):\n",
    "\t\topts.acq = acqs[a]\n",
    "\t\topts.comp = comp[a]\n",
    "\t\topts.known_noise = known_variance[a]\n",
    "\t\tA[name[a]], Prob[name[a]] = run(problem, opts)\t\n",
    "\n",
    "\tprint(f'Graph {i+1}')\n",
    "\tmses = plot_matching_intervention(\n",
    "\t\tproblem,\n",
    "\t\topts,\n",
    "\t\t**Prob\n",
    "\t)\n",
    "\n",
    "\t# plot_picked_interventions(problem, opts, **A);\n",
    "\t# plot_picked_intervention_j(problem, opts, A[acq], 0);\n",
    "\n",
    "\tMSEs.append(mses)\n",
    "\n",
    "\tAs.append(A)\n",
    "\tProbs.append(Prob)"
   ]
  },
  {
   "cell_type": "code",
   "execution_count": 46,
   "metadata": {},
   "outputs": [],
   "source": [
    "import pickle\n",
    "\n",
    "name = f'{DAG_type}-{p}-{S}-R'\n",
    "\n",
    "with open(f'saved_results/problems_{name}.pkl', 'wb') as file:\n",
    "    pickle.dump(problems, file, protocol=pickle.HIGHEST_PROTOCOL)\n",
    "    \n",
    "with open(f'saved_results/As_{name}.pkl', 'wb') as file:\n",
    "    pickle.dump(As, file, protocol=pickle.HIGHEST_PROTOCOL)\n",
    "    \n",
    "with open(f'saved_results/Probs_{name}.pkl', 'wb') as file:\n",
    "    pickle.dump(Probs, file, protocol=pickle.HIGHEST_PROTOCOL)"
   ]
  },
  {
   "cell_type": "code",
   "execution_count": 47,
   "metadata": {},
   "outputs": [],
   "source": [
    "mu_MSEs = []\n",
    "for i in range(g):\n",
    "\tProb = Probs[i]\n",
    "\tproblem = problems[i]\n",
    "\tmu_mses = {k:[] for k in ['passive', 'ml2', 'mestvr', 'svr', 'ivr', 'ivr_iw3']}\n",
    "\tfor r in range(opts.R):\n",
    "\t\tfor k in ['passive', 'ml2', 'mestvr', 'svr', 'ivr', 'ivr_iw3']:\n",
    "\t\t\tmse = []\n",
    "\t\t\tfor prob in Prob[k][r]:\n",
    "\t\t\t\terrs = abs(np.dot(np.eye(problem.nnodes)-np.array(prob['mean']),problem.mu_target) - problem.a_target)\n",
    "\t\t\t\tmse.append(np.linalg.norm(np.concatenate(errs))**2)\n",
    "\t\t\tmu_mses[k].append(mse)\n",
    "\tmu_MSEs.append(mu_mses)\n"
   ]
  },
  {
   "cell_type": "code",
   "execution_count": 48,
   "metadata": {
    "scrolled": true
   },
   "outputs": [
    {
     "data": {
      "text/plain": [
       "<Figure size 432x288 with 0 Axes>"
      ]
     },
     "metadata": {},
     "output_type": "display_data"
    },
    {
     "data": {
      "image/png": "[encoded data removed]",
      "text/plain": [
       "<Figure size 403.2x273.6 with 1 Axes>"
      ]
     },
     "metadata": {
      "needs_background": "light"
     },
     "output_type": "display_data"
    }
   ],
   "source": [
    "plt.clf()\n",
    "fig, ax = plt.subplots(1,1,figsize=(5.6,3.8))\n",
    "plt.rcParams.update({'font.size': 12})\n",
    "\n",
    "plt.yscale('log')\n",
    "\n",
    "labels = ['Random', 'Greedy', 'MaxV', 'CIV', 'CIV-OW']\n",
    "colors = ['#069AF3', '#9ACD32', 'grey', 'orange', '#C79FEF']\n",
    "markers = ['^', 'o', 'o', 's', 's']\n",
    "linestyles = ['--','--','--','-', '-']\n",
    "for i, k in enumerate(['passive', 'ml2', 'mestvr', 'ivr', 'ivr_iw3']):\n",
    "\tmean = np.array([np.array(mu_MSEs[i][k]).mean(axis=0) for i in range(g)]).mean(axis=0)\n",
    "\tstd = np.array([np.array(mu_MSEs[i][k]).std(axis=0) for i in range(g)]).mean(axis=0)\n",
    "\tplt.plot(range(opts.T), mean, label=labels[i], linewidth=2, color=colors[i], marker=markers[i], markersize=0, linestyle=linestyles[i])\n",
    "\tplt.fill_between(range(opts.T), mean - std, mean + std, alpha=.2, color=colors[i])\n",
    "\n",
    "ax.spines.right.set_visible(False)\n",
    "ax.spines.top.set_visible(False)\n",
    "# plt.ylim(0.01,1)\n",
    "\n",
    "plt.legend(loc='upper right')\n",
    "plt.xlabel(r'time step $t$')\n",
    "plt.ylabel(r'$||\\mu_t^*-\\mu^*||_2^2$ (log scale)')\n",
    "plt.title(f'square distance to target mean')\n",
    "plt.tight_layout()\n",
    "plt.savefig(f'fig/less_baseline/mse-mean_{name}.pdf')"
   ]
  },
  {
   "cell_type": "code",
   "execution_count": 49,
   "metadata": {},
   "outputs": [
    {
     "data": {
      "text/plain": [
       "<Figure size 432x288 with 0 Axes>"
      ]
     },
     "metadata": {},
     "output_type": "display_data"
    },
    {
     "data": {
      "image/png": "[encoded data removed]",
      "text/plain": [
       "<Figure size 403.2x273.6 with 1 Axes>"
      ]
     },
     "metadata": {
      "needs_background": "light"
     },
     "output_type": "display_data"
    }
   ],
   "source": [
    "plt.clf()\n",
    "fig, ax = plt.subplots(1,1,figsize=(5.6,3.8))\n",
    "plt.rcParams.update({'font.size': 12})\n",
    "\n",
    "plt.yscale('log')\n",
    "\n",
    "labels = ['Random', 'Greedy', 'MaxV', 'CV', 'CIV', 'CIV-OW']\n",
    "colors = ['#069AF3', '#9ACD32', 'black', 'grey', 'orange', '#C79FEF']\n",
    "markers = ['^', 'o', 'o', 'o', 's', 's']\n",
    "linestyles = ['--','--','--', '--','-', '-']\n",
    "for i, k in enumerate(['passive', 'ml2', 'mestvr', 'svr', 'ivr', 'ivr_iw3']):\n",
    "\tmean = np.array([np.array(mu_MSEs[i][k]).mean(axis=0) for i in range(g)]).mean(axis=0)\n",
    "\tstd = np.array([np.array(mu_MSEs[i][k]).std(axis=0) for i in range(g)]).mean(axis=0)\n",
    "\tplt.plot(range(opts.T), mean, label=labels[i], linewidth=2, color=colors[i], marker=markers[i], markersize=0, linestyle=linestyles[i])\n",
    "\tplt.fill_between(range(opts.T), mean - std, mean + std, alpha=.2, color=colors[i])\n",
    "\n",
    "ax.spines.right.set_visible(False)\n",
    "ax.spines.top.set_visible(False)\n",
    "# plt.ylim(0.01,1)\n",
    "\n",
    "plt.legend(loc='upper right')\n",
    "plt.xlabel(r'time step $t$')\n",
    "plt.ylabel(r'$||\\mu_t^*-\\mu^*||_2^2$ (log scale)')\n",
    "plt.title(f'square distance to target mean')\n",
    "plt.tight_layout()\n",
    "plt.savefig(f'fig/mse-mean_{name}.pdf')"
   ]
  },
  {
   "cell_type": "code",
   "execution_count": 50,
   "metadata": {},
   "outputs": [
    {
     "data": {
      "text/plain": [
       "<Figure size 432x288 with 0 Axes>"
      ]
     },
     "metadata": {},
     "output_type": "display_data"
    },
    {
     "data": {
      "image/png": "[encoded data removed]",
      "text/plain": [
       "<Figure size 288x288 with 1 Axes>"
      ]
     },
     "metadata": {
      "needs_background": "light"
     },
     "output_type": "display_data"
    }
   ],
   "source": [
    "plt.clf()\n",
    "fig, ax = plt.subplots(1,1,figsize=(4,4))\n",
    "plt.rcParams.update({'font.size': 12})\n",
    "\n",
    "data = []\n",
    "for k in ['passive', 'ml2', 'mestvr', 'ivr', 'ivr_iw3']:\n",
    "\tdata.append([np.array(mu_MSEs[i][k]).mean(axis=0)[-1] for i in range(g)])\n",
    "bplots = plt.boxplot(data, labels=['Random', 'Greedy', 'MaxV', 'CIV', 'CIV-OW'], patch_artist=False);\n",
    "\n",
    "# fill with colors\n",
    "colors = ['#069AF3', '#9ACD32', 'grey', 'orange', '#C79FEF']\n",
    "\n",
    "for patch, color in zip(bplots['boxes'], colors):\n",
    "\t# patch.set_facecolor(color)\n",
    "\tpatch.set(color=color, linewidth=1.5)\n",
    "\t\n",
    "for line, color in zip(bplots['medians'], colors):\n",
    "\t# patch.set_facecolor(color)\n",
    "\tline.set(color=color, linewidth=1.5)\n",
    "\n",
    "ax.spines.right.set_visible(False)\n",
    "ax.spines.top.set_visible(False)\n",
    "\n",
    "# plt.legend(loc='upper right')\n",
    "plt.xticks(rotation=45)\n",
    "plt.ylabel(r'$||\\mu_t^*-\\mu^*||_2^2$ (log scale)')\n",
    "plt.title(f'time step {opts.T}')\n",
    "plt.yscale('log')\n",
    "plt.tight_layout()\n",
    "\n",
    "plt.savefig(f'fig/less_baseline/bplot_{name}.pdf')"
   ]
  },
  {
   "cell_type": "code",
   "execution_count": 51,
   "metadata": {},
   "outputs": [
    {
     "data": {
      "text/plain": [
       "<Figure size 432x288 with 0 Axes>"
      ]
     },
     "metadata": {},
     "output_type": "display_data"
    },
    {
     "data": {
      "image/png": "[encoded data removed]",
      "text/plain": [
       "<Figure size 288x288 with 1 Axes>"
      ]
     },
     "metadata": {
      "needs_background": "light"
     },
     "output_type": "display_data"
    }
   ],
   "source": [
    "plt.clf()\n",
    "fig, ax = plt.subplots(1,1,figsize=(4,4))\n",
    "plt.rcParams.update({'font.size': 12})\n",
    "\n",
    "data = []\n",
    "for k in ['passive', 'ml2', 'mestvr', 'svr', 'ivr', 'ivr_iw3']:\n",
    "\tdata.append([np.array(mu_MSEs[i][k]).mean(axis=0)[-1] for i in range(g)])\n",
    "bplots = plt.boxplot(data, labels=['Random', 'Greedy', 'MaxV', 'CV', 'CIV', 'CIV-OW'], patch_artist=False);\n",
    "\n",
    "# fill with colors\n",
    "colors = ['#069AF3', '#9ACD32', 'black', 'grey', 'orange', '#C79FEF']\n",
    "\n",
    "for patch, color in zip(bplots['boxes'], colors):\n",
    "\t# patch.set_facecolor(color)\n",
    "\tpatch.set(color=color, linewidth=1.5)\n",
    "\t\n",
    "for line, color in zip(bplots['medians'], colors):\n",
    "\t# patch.set_facecolor(color)\n",
    "\tline.set(color=color, linewidth=1.5)\n",
    "\n",
    "ax.spines.right.set_visible(False)\n",
    "ax.spines.top.set_visible(False)\n",
    "\n",
    "# plt.legend(loc='upper right')\n",
    "plt.xticks(rotation=45)\n",
    "plt.ylabel(r'$||\\mu_t^*-\\mu^*||_2^2$ (log scale)')\n",
    "plt.title(f'time step {opts.T}')\n",
    "plt.yscale('log')\n",
    "plt.tight_layout()\n",
    "\n",
    "plt.savefig(f'fig/bplot_{name}.pdf')"
   ]
  },
  {
   "cell_type": "markdown",
   "metadata": {},
   "source": [
    "### Read and Plot"
   ]
  },
  {
   "cell_type": "code",
   "execution_count": 11,
   "metadata": {},
   "outputs": [],
   "source": [
    "import numpy as np\n",
    "import matplotlib.pyplot as plt\n",
    "import pickle\n",
    "from argparse import Namespace"
   ]
  },
  {
   "cell_type": "code",
   "execution_count": 90,
   "metadata": {},
   "outputs": [],
   "source": [
    "name = 'random-30-15-sparse'"
   ]
  },
  {
   "cell_type": "code",
   "execution_count": 91,
   "metadata": {},
   "outputs": [],
   "source": [
    "with open(f'./saved_results/problems_{name}.pkl', 'rb') as file:\n",
    "\tproblems = pickle.load(file)\n",
    "\n",
    "with open(f'./saved_results/As_{name}.pkl', 'rb') as file:\n",
    "\tAs = pickle.load(file)\n",
    "\n",
    "with open(f'./saved_results/Probs_{name}.pkl', 'rb') as file:\n",
    "\tProbs = pickle.load(file)"
   ]
  },
  {
   "cell_type": "code",
   "execution_count": 92,
   "metadata": {},
   "outputs": [],
   "source": [
    "g = 10\n",
    "opts = Namespace(N=1, T=50, W=0, R=20, nS=0, verbose=False)"
   ]
  },
  {
   "cell_type": "code",
   "execution_count": 93,
   "metadata": {},
   "outputs": [],
   "source": [
    "mu_MSEs = []\n",
    "for i in range(g):\n",
    "\tProb = Probs[i]\n",
    "\tproblem = problems[i]\n",
    "\tmu_mses = {k:[] for k in ['passive', 'ml2', 'mestvr', 'svr', 'ivr', 'ivr_iw3']}\n",
    "\tfor r in range(opts.R):\n",
    "\t\tfor k in ['passive', 'ml2', 'mestvr', 'svr', 'ivr', 'ivr_iw3']:\n",
    "\t\t\tmse = []\n",
    "\t\t\tfor prob in Prob[k][r]:\n",
    "\t\t\t\terrs = abs(np.dot(np.eye(problem.nnodes)-np.array(prob['mean']),problem.mu_target) - problem.a_target)\n",
    "\t\t\t\tmse.append(np.linalg.norm(np.concatenate(errs))**2)\n",
    "\t\t\tmu_mses[k].append(mse)\n",
    "\tmu_MSEs.append(mu_mses)"
   ]
  },
  {
   "cell_type": "code",
   "execution_count": 94,
   "metadata": {},
   "outputs": [
    {
     "data": {
      "text/plain": [
       "<Figure size 432x288 with 0 Axes>"
      ]
     },
     "metadata": {},
     "output_type": "display_data"
    },
    {
     "data": {
      "image/png": "[encoded data removed]",
      "text/plain": [
       "<Figure size 403.2x273.6 with 1 Axes>"
      ]
     },
     "metadata": {
      "needs_background": "light"
     },
     "output_type": "display_data"
    }
   ],
   "source": [
    "plt.clf()\n",
    "fig, ax = plt.subplots(1,1,figsize=(5.6,3.8))\n",
    "plt.rcParams.update({'font.size': 12})\n",
    "\n",
    "plt.yscale('log')\n",
    "\n",
    "labels = ['Random', 'Greedy', 'MaxV', 'CV', 'CIV', 'CIV-OW']\n",
    "colors = ['#069AF3', '#9ACD32', 'black', 'grey', 'orange', '#C79FEF']\n",
    "markers = ['^', 'o', 'o', 'o', 's', 's']\n",
    "linestyles = ['--','--','--', '--','-', '-']\n",
    "for i, k in enumerate(['passive', 'ml2', 'mestvr', 'svr', 'ivr', 'ivr_iw3']):\n",
    "\tmean = np.array([np.array(mu_MSEs[i][k]).mean(axis=0) for i in range(g)]).mean(axis=0)\n",
    "\tstd = np.array([np.array(mu_MSEs[i][k]).std(axis=0) for i in range(g)]).mean(axis=0)\n",
    "\tplt.plot(range(opts.T), mean, label=labels[i], linewidth=2, color=colors[i], marker=markers[i], markersize=0, linestyle=linestyles[i])\n",
    "\tplt.fill_between(range(opts.T), mean - std, mean + std, alpha=.2, color=colors[i])\n",
    "\n",
    "ax.spines.right.set_visible(False)\n",
    "ax.spines.top.set_visible(False)\n",
    "# plt.ylim(0.01,1)\n",
    "\n",
    "plt.legend(loc='upper right')\n",
    "plt.xlabel(r'time step $t$')\n",
    "plt.ylabel(r'$||\\mu_t^*-\\mu^*||_2^2$ (log scale)')\n",
    "# plt.title(f'square distance to target mean')\n",
    "plt.tight_layout()\n",
    "plt.savefig(f'fig/mse-mean_{name}.pdf')"
   ]
  },
  {
   "cell_type": "code",
   "execution_count": 95,
   "metadata": {},
   "outputs": [
    {
     "data": {
      "text/plain": [
       "<Figure size 432x288 with 0 Axes>"
      ]
     },
     "metadata": {},
     "output_type": "display_data"
    },
    {
     "data": {
      "image/png": "[encoded data removed]",
      "text/plain": [
       "<Figure size 288x288 with 1 Axes>"
      ]
     },
     "metadata": {
      "needs_background": "light"
     },
     "output_type": "display_data"
    }
   ],
   "source": [
    "plt.clf()\n",
    "fig, ax = plt.subplots(1,1,figsize=(4,4))\n",
    "plt.rcParams.update({'font.size': 12})\n",
    "\n",
    "data = []\n",
    "for k in ['passive', 'ml2', 'mestvr', 'svr', 'ivr', 'ivr_iw3']:\n",
    "\tdata.append([np.array(mu_MSEs[i][k]).mean(axis=0)[-1] for i in range(g)])\n",
    "bplots = plt.boxplot(data, labels=['Random', 'Greedy', 'MaxV', 'CV', 'CIV', 'CIV-OW'], patch_artist=False);\n",
    "\n",
    "# fill with colors\n",
    "colors = ['#069AF3', '#9ACD32', 'black', 'grey', 'orange', '#C79FEF']\n",
    "\n",
    "for patch, color in zip(bplots['boxes'], colors):\n",
    "\t# patch.set_facecolor(color)\n",
    "\tpatch.set(color=color, linewidth=1.5)\n",
    "\t\n",
    "for line, color in zip(bplots['medians'], colors):\n",
    "\t# patch.set_facecolor(color)\n",
    "\tline.set(color=color, linewidth=1.5)\n",
    "\n",
    "ax.spines.right.set_visible(False)\n",
    "ax.spines.top.set_visible(False)\n",
    "\n",
    "# plt.legend(loc='upper right')\n",
    "plt.xticks(rotation=45)\n",
    "plt.ylabel(r'$||\\mu_t^*-\\mu^*||_2^2$ (log scale)')\n",
    "# plt.title(f'time step {opts.T}')\n",
    "plt.yscale('log')\n",
    "plt.tight_layout()\n",
    "\n",
    "plt.savefig(f'fig/bplot_{name}.pdf')"
   ]
  },
  {
   "cell_type": "markdown",
   "metadata": {},
   "source": [
    "### Misc"
   ]
  },
  {
   "cell_type": "code",
   "execution_count": 45,
   "metadata": {
    "scrolled": true
   },
   "outputs": [],
   "source": [
    "# from bayesianmm.eval import plot_picked_intervention_j\n",
    "\n",
    "# plot_picked_intervention_j(problems[1], opts, As[0]['ivr'], 0, figsize=(16,4.4))"
   ]
  },
  {
   "cell_type": "code",
   "execution_count": null,
   "metadata": {},
   "outputs": [],
   "source": [
    "# for i in range(g):\n",
    "# \tprint(f\"Graph {i+1}\")\n",
    "# \tproblem = problems[i]\n",
    "# \tdraw(\n",
    "# \t\tproblem.DAG, \n",
    "# \t\tcolored_set = set(i for i in range(problem.nnodes) if problem.a_target[i]!=0), \n",
    "# \t\taffected_set=set().union(*[problem.DAG.descendants_of(i) for i in range(problem.nnodes) if problem.a_target[i]!=0]),\n",
    "# \t\tedge_weights=problem.B.T\n",
    "# \t\t)\n",
    "# plt.savefig('{}/dag.png'.format(savepath))"
   ]
  },
  {
   "cell_type": "code",
   "execution_count": null,
   "metadata": {},
   "outputs": [],
   "source": [
    "# import pickle\n",
    "\n",
    "# with open('../results/problems.pkl', 'wb') as file:\n",
    "# \tpickle.dump(problems, file, protocol=pickle.HIGHEST_PROTOCOL)\n",
    "\n",
    "# with open('../results/As.pkl', 'wb') as file:\n",
    "# \tpickle.dump(As, file, protocol=pickle.HIGHEST_PROTOCOL)\n",
    "\n",
    "# with open('../results/Probs.pkl', 'wb') as file:\n",
    "# \tpickle.dump(Probs, file, protocol=pickle.HIGHEST_PROTOCOL)"
   ]
  },
  {
   "cell_type": "code",
   "execution_count": null,
   "metadata": {},
   "outputs": [],
   "source": [
    "# import pickle\n",
    "\n",
    "# with open('../results/problems.pkl', 'rb') as file:\n",
    "# \tproblems = pickle.load(file)\n",
    "\n",
    "# with open('../results/As.pkl', 'rb') as file:\n",
    "# \tAs = pickle.load(file)\n",
    "\n",
    "# with open('../results/Probs.pkl', 'rb') as file:\n",
    "# \tProbs = pickle.load(file)"
   ]
  },
  {
   "cell_type": "code",
   "execution_count": null,
   "metadata": {},
   "outputs": [],
   "source": [
    "# plt.clf()\n",
    "# plt.figure(figsize=(7,4))\n",
    "# plt.yscale('log')\n",
    "\n",
    "# labels = ['Random', 'Greedy', 'MaxV', 'CIV', 'CIV-OW']\n",
    "# colors = ['#069AF3', '#9ACD32', 'grey','orange', '#C79FEF']\n",
    "# markers = ['^', 'o', 'o', 's', 's']\n",
    "# for i, k in enumerate(['passive', 'ml2', 'mestvr', 'ivr', 'ivr_iw3']):\n",
    "# \tmean = np.array([np.array(MSEs[i][k]).mean(axis=0) for i in range(g)]).mean(axis=0)\n",
    "# \tstd = np.array([np.array(MSEs[i][k]).std(axis=0) for i in range(g)]).mean(axis=0)\n",
    "# \tplt.plot(range(opts.T), mean, label=labels[i], linewidth=1, color=colors[i], marker=markers[i], markersize=2)\n",
    "# \tplt.fill_between(range(opts.T), mean - std, mean + std, alpha=.2, color=colors[i])\n",
    "# plt.legend()\n",
    "# plt.xlabel('Round')\n",
    "# plt.ylabel('Mean Absolute Error')\n",
    "# plt.title(f'Matching Intervention (Average {g} Graphs)')\n",
    "# plt.tight_layout()"
   ]
  }
 ],
 "metadata": {
  "interpreter": {
   "hash": "072e0b1c1e434c456c26afce7d6f007bcf885fc1b32e7460a12ca36f267d17b5"
  },
  "kernelspec": {
   "display_name": "Python 3",
   "language": "python",
   "name": "python3"
  },
  "language_info": {
   "codemirror_mode": {
    "name": "ipython",
    "version": 3
   },
   "file_extension": ".py",
   "mimetype": "text/x-python",
   "name": "python",
   "nbconvert_exporter": "python",
   "pygments_lexer": "ipython3",
   "version": "3.9.13"
  }
 },
 "nbformat": 4,
 "nbformat_minor": 2
}
